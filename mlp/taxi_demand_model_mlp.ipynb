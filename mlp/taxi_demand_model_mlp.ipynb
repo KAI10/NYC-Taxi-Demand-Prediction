{
 "cells": [
  {
   "cell_type": "code",
   "execution_count": 3,
   "metadata": {},
   "outputs": [],
   "source": [
    "from scipy.sparse import csr_matrix\n",
    "from math import ceil, floor\n",
    "\n",
    "from sklearn.preprocessing import StandardScaler\n",
    "import matplotlib.pyplot as plt\n",
    "import scipy.sparse as sp\n",
    "import pandas as pd\n",
    "import numpy as np\n",
    "\n",
    "import torch\n",
    "import torch.nn as nn\n",
    "import torch.nn.functional as F\n",
    "from torch.utils.data import DataLoader, TensorDataset, Subset"
   ]
  },
  {
   "cell_type": "code",
   "execution_count": 4,
   "metadata": {},
   "outputs": [
    {
     "name": "stdout",
     "output_type": "stream",
     "text": [
      "<class 'pandas.core.frame.DataFrame'>\n",
      "Int64Index: 34499859 entries, 0 to 12210951\n",
      "Data columns (total 19 columns):\n",
      " #   Column                 Dtype  \n",
      "---  ------                 -----  \n",
      " 0   VendorID               int64  \n",
      " 1   tpep_pickup_datetime   object \n",
      " 2   tpep_dropoff_datetime  object \n",
      " 3   passenger_count        int64  \n",
      " 4   trip_distance          float64\n",
      " 5   pickup_longitude       float64\n",
      " 6   pickup_latitude        float64\n",
      " 7   RatecodeID             int64  \n",
      " 8   store_and_fwd_flag     object \n",
      " 9   dropoff_longitude      float64\n",
      " 10  dropoff_latitude       float64\n",
      " 11  payment_type           int64  \n",
      " 12  fare_amount            float64\n",
      " 13  extra                  float64\n",
      " 14  mta_tax                float64\n",
      " 15  tip_amount             float64\n",
      " 16  tolls_amount           float64\n",
      " 17  improvement_surcharge  float64\n",
      " 18  total_amount           float64\n",
      "dtypes: float64(12), int64(4), object(3)\n",
      "memory usage: 5.1+ GB\n"
     ]
    }
   ],
   "source": [
    "data_jan = pd.read_csv(\"yellow_tripdata_2016-01.csv\")\n",
    "data_feb = pd.read_csv(\"yellow_tripdata_2016-02.csv\")\n",
    "data_mar = pd.read_csv(\"yellow_tripdata_2016-03.csv\")\n",
    "data = pd.concat([data_jan, data_feb, data_mar])\n",
    "# data = pd.concat([data_jan, data_feb])\n",
    "data.info()"
   ]
  },
  {
   "cell_type": "code",
   "execution_count": 5,
   "metadata": {},
   "outputs": [
    {
     "name": "stdout",
     "output_type": "stream",
     "text": [
      "<class 'pandas.core.frame.DataFrame'>\n",
      "Int64Index: 34499859 entries, 0 to 12210951\n",
      "Data columns (total 8 columns):\n",
      " #   Column                 Dtype  \n",
      "---  ------                 -----  \n",
      " 0   tpep_pickup_datetime   object \n",
      " 1   tpep_dropoff_datetime  object \n",
      " 2   trip_distance          float64\n",
      " 3   pickup_longitude       float64\n",
      " 4   pickup_latitude        float64\n",
      " 5   dropoff_longitude      float64\n",
      " 6   dropoff_latitude       float64\n",
      " 7   fare_amount            float64\n",
      "dtypes: float64(6), object(2)\n",
      "memory usage: 2.3+ GB\n"
     ]
    }
   ],
   "source": [
    "data.drop([\n",
    "    'VendorID', 'passenger_count', 'RatecodeID', 'store_and_fwd_flag', \n",
    "    'payment_type', 'extra', 'mta_tax', 'tip_amount', 'tolls_amount',\n",
    "    'improvement_surcharge', 'total_amount'], \n",
    "    axis=1,\n",
    "    inplace = True\n",
    ")\n",
    "\n",
    "data.info()"
   ]
  },
  {
   "cell_type": "code",
   "execution_count": 6,
   "metadata": {},
   "outputs": [],
   "source": [
    "# filter the data by latitude, longitude\n",
    "import json\n",
    "manhattan_boundary = json.load(open('manhattan.geojson', 'r'))\n",
    "coords = manhattan_boundary['features'][0]['geometry']['coordinates'][0]\n",
    "\n",
    "min_lon = min([lon for lon, _ in coords])\n",
    "max_lon = max([lon for lon, _ in coords])\n",
    "min_lat = min([lat for _, lat in coords])\n",
    "max_lat = max([lat for _, lat in coords])\n",
    "\n",
    "data = data[(data[\"pickup_latitude\"] >= min_lat) & (data[\"pickup_latitude\"] <= max_lat) &\n",
    "                (data[\"pickup_longitude\"] >= min_lon) & (data[\"pickup_longitude\"] <= max_lon) &\n",
    "                (data[\"dropoff_latitude\"] >= min_lat) & (data[\"dropoff_latitude\"] <= max_lat) &\n",
    "                (data[\"dropoff_longitude\"] >= min_lon) & (data[\"dropoff_longitude\"] <= max_lon)]"
   ]
  },
  {
   "cell_type": "code",
   "execution_count": 7,
   "metadata": {},
   "outputs": [
    {
     "name": "stdout",
     "output_type": "stream",
     "text": [
      "99.9% of the fare amounts are less than:  52.0 dollars\n"
     ]
    }
   ],
   "source": [
    "# filter data by fare_amount\n",
    "print(\"99.9% of the fare amounts are less than: \", data[\"fare_amount\"].quantile(q=0.999), \"dollars\")\n",
    "data = data[(data[\"fare_amount\"] > 0) & (data[\"fare_amount\"] < 53)]"
   ]
  },
  {
   "cell_type": "code",
   "execution_count": 8,
   "metadata": {},
   "outputs": [
    {
     "name": "stdout",
     "output_type": "stream",
     "text": [
      "99.9% of the rip distances are less than:  11.11 miles\n"
     ]
    }
   ],
   "source": [
    "# filter data by trip_distance\n",
    "print(\"99.9% of the rip distances are less than: \", data[\"trip_distance\"].quantile(q=0.999), \"miles\")\n",
    "data = data[(data[\"trip_distance\"] > 0) & (data[\"trip_distance\"] < 12)]"
   ]
  },
  {
   "cell_type": "code",
   "execution_count": 9,
   "metadata": {},
   "outputs": [
    {
     "name": "stdout",
     "output_type": "stream",
     "text": [
      "99.9% of the trip duratins are less than:  85476.82400000468 seconds\n"
     ]
    }
   ],
   "source": [
    "data['tpep_pickup_datetime']= pd.to_datetime(data['tpep_pickup_datetime'])\n",
    "data['tpep_dropoff_datetime']= pd.to_datetime(data['tpep_dropoff_datetime']) \n",
    "\n",
    "data[\"trip_duration\"] = (data[\"tpep_dropoff_datetime\"] - data[\"tpep_pickup_datetime\"]).dt.total_seconds()\n",
    "print(\"99.9% of the trip duratins are less than: \", data[\"trip_duration\"].quantile(q=0.999), \"seconds\")\n",
    "data = data[(data[\"trip_duration\"] > 0) & (data[\"trip_duration\"] < 24*3600) ]"
   ]
  },
  {
   "cell_type": "code",
   "execution_count": 10,
   "metadata": {},
   "outputs": [
    {
     "name": "stdout",
     "output_type": "stream",
     "text": [
      "99.9% of the trip speeds are less than:  36.87055476529161 mph\n"
     ]
    }
   ],
   "source": [
    "data[\"speed\"] = data[\"trip_distance\"] / (data[\"trip_duration\"] / 3600)\n",
    "print(\"99.9% of the trip speeds are less than: \", data[\"speed\"].quantile(q=0.999), \"mph\")\n",
    "data = data[(data[\"speed\"] > 0) & (data[\"speed\"] < 60)]"
   ]
  },
  {
   "cell_type": "code",
   "execution_count": 11,
   "metadata": {},
   "outputs": [
    {
     "name": "stdout",
     "output_type": "stream",
     "text": [
      "<class 'pandas.core.frame.DataFrame'>\n",
      "Int64Index: 29889639 entries, 5 to 12210943\n",
      "Data columns (total 10 columns):\n",
      " #   Column                 Dtype         \n",
      "---  ------                 -----         \n",
      " 0   tpep_pickup_datetime   datetime64[ns]\n",
      " 1   tpep_dropoff_datetime  datetime64[ns]\n",
      " 2   trip_distance          float64       \n",
      " 3   pickup_longitude       float64       \n",
      " 4   pickup_latitude        float64       \n",
      " 5   dropoff_longitude      float64       \n",
      " 6   dropoff_latitude       float64       \n",
      " 7   fare_amount            float64       \n",
      " 8   trip_duration          float64       \n",
      " 9   speed                  float64       \n",
      "dtypes: datetime64[ns](2), float64(8)\n",
      "memory usage: 2.4 GB\n"
     ]
    }
   ],
   "source": [
    "data.info()"
   ]
  },
  {
   "cell_type": "code",
   "execution_count": 60,
   "metadata": {},
   "outputs": [],
   "source": [
    "import pickle\n",
    "pickle.dump(data, open('temp_data/filtered_data.pickle', 'wb'))"
   ]
  },
  {
   "cell_type": "code",
   "execution_count": 3,
   "metadata": {},
   "outputs": [],
   "source": [
    "import pickle\n",
    "data = pickle.load(open('temp_data/filtered_data.pickle', 'rb'))\n",
    "\n",
    "import json\n",
    "manhattan_boundary = json.load(open('manhattan.geojson', 'r'))\n",
    "coords = manhattan_boundary['features'][0]['geometry']['coordinates'][0]\n",
    "\n",
    "min_lon = min([lon for lon, _ in coords])\n",
    "max_lon = max([lon for lon, _ in coords])\n",
    "min_lat = min([lat for _, lat in coords])\n",
    "max_lat = max([lat for _, lat in coords])"
   ]
  },
  {
   "cell_type": "code",
   "execution_count": 12,
   "metadata": {},
   "outputs": [],
   "source": [
    "def haversine_np(lon1, lat1, lon2, lat2):\n",
    "    \"\"\"\n",
    "    Calculate the great circle distance between two points\n",
    "    on the earth (specified in decimal degrees)\n",
    "\n",
    "    All args must be of equal length.    \n",
    "\n",
    "    \"\"\"\n",
    "    lon1, lat1, lon2, lat2 = map(np.radians, [lon1, lat1, lon2, lat2])\n",
    "\n",
    "    dlon = lon2 - lon1\n",
    "    dlat = lat2 - lat1\n",
    "\n",
    "    a = np.sin(dlat/2.0)**2 + np.cos(lat1) * np.cos(lat2) * np.sin(dlon/2.0)**2\n",
    "\n",
    "    c = 2 * np.arcsin(np.sqrt(a))\n",
    "    km = R = 6371.0 * c # 6371 radius of the earth in km\n",
    "    return km * 1000\n"
   ]
  },
  {
   "cell_type": "code",
   "execution_count": 13,
   "metadata": {},
   "outputs": [
    {
     "name": "stdout",
     "output_type": "stream",
     "text": [
      "10303.529670673082 19914.53188192843\n",
      "67 35 2345\n"
     ]
    }
   ],
   "source": [
    "grid_side_length = 300  # 300m\n",
    "time_interval_length = 20  # 20 min\n",
    "\n",
    "width = haversine_np(min_lon, min_lat, max_lon, min_lat)\n",
    "height = haversine_np(min_lon, min_lat, min_lon, max_lat)\n",
    "\n",
    "print(width, height)\n",
    "\n",
    "H = ceil(height / grid_side_length)\n",
    "W = ceil(width / grid_side_length)\n",
    "\n",
    "print(H, W, H*W)\n",
    "\n",
    "bottom_left_lon = np.array([min_lon] * data.shape[0])\n",
    "bottom_left_lat = np.array([min_lat] * data.shape[0])\n",
    "min_timestamp = pd.Timestamp('2016-01-01 00:00:00')\n",
    "\n",
    "\n",
    "def set_grid_index(data):\n",
    "    src_x = haversine_np(bottom_left_lon, bottom_left_lat, data[\"pickup_longitude\"], bottom_left_lat)\n",
    "    src_y = haversine_np(bottom_left_lon, bottom_left_lat, bottom_left_lon, data[\"pickup_latitude\"])\n",
    "\n",
    "    src_x = np.floor(src_x / grid_side_length)\n",
    "    src_y = np.floor(src_y / grid_side_length)\n",
    "    data[\"pickup_grid\"] = src_y * W + src_x\n",
    "    data[\"pickup_grid_x\"] = src_x\n",
    "    data[\"pickup_grid_y\"] = src_y\n",
    "\n",
    "    dest_x = haversine_np(bottom_left_lon, bottom_left_lat, data[\"dropoff_longitude\"], bottom_left_lat)\n",
    "    dest_y = haversine_np(bottom_left_lon, bottom_left_lat, bottom_left_lon, data[\"dropoff_latitude\"])\n",
    "    dest_x = np.floor(dest_x / grid_side_length)\n",
    "    dest_y = np.floor(dest_y / grid_side_length)\n",
    "    data[\"dropoff_grid\"] = dest_y * W + dest_x\n",
    "    data[\"dropoff_grid_x\"] = dest_x\n",
    "    data[\"dropoff_grid_y\"] = dest_y\n",
    "\n",
    "\n",
    "def set_timeinterval_index(data):\n",
    "    time_delta_minutes = (data[\"tpep_pickup_datetime\"] - min_timestamp).dt.total_seconds() / 60\n",
    "    data[\"pickup_timeinterval_index\"] = np.floor(time_delta_minutes / time_interval_length)\n",
    "    \n",
    "    time_delta_minutes = (data[\"tpep_dropoff_datetime\"] - min_timestamp).dt.total_seconds() / 60\n",
    "    data[\"dropoff_timeinterval_index\"] = np.floor(time_delta_minutes / time_interval_length)"
   ]
  },
  {
   "cell_type": "code",
   "execution_count": 14,
   "metadata": {},
   "outputs": [
    {
     "name": "stdout",
     "output_type": "stream",
     "text": [
      "<class 'pandas.core.frame.DataFrame'>\n",
      "Int64Index: 29889639 entries, 5 to 12210943\n",
      "Data columns (total 18 columns):\n",
      " #   Column                      Dtype         \n",
      "---  ------                      -----         \n",
      " 0   tpep_pickup_datetime        datetime64[ns]\n",
      " 1   tpep_dropoff_datetime       datetime64[ns]\n",
      " 2   trip_distance               float64       \n",
      " 3   pickup_longitude            float64       \n",
      " 4   pickup_latitude             float64       \n",
      " 5   dropoff_longitude           float64       \n",
      " 6   dropoff_latitude            float64       \n",
      " 7   fare_amount                 float64       \n",
      " 8   trip_duration               float64       \n",
      " 9   speed                       float64       \n",
      " 10  pickup_grid                 int32         \n",
      " 11  pickup_grid_x               int32         \n",
      " 12  pickup_grid_y               int32         \n",
      " 13  dropoff_grid                int32         \n",
      " 14  dropoff_grid_x              int32         \n",
      " 15  dropoff_grid_y              int32         \n",
      " 16  pickup_timeinterval_index   int32         \n",
      " 17  dropoff_timeinterval_index  int32         \n",
      "dtypes: datetime64[ns](2), float64(8), int32(8)\n",
      "memory usage: 3.3 GB\n"
     ]
    }
   ],
   "source": [
    "set_grid_index(data)\n",
    "set_timeinterval_index(data)\n",
    "data = data.astype({\n",
    "    'pickup_grid': 'int32',\n",
    "    'pickup_grid_x': 'int32',\n",
    "    'pickup_grid_y': 'int32',\n",
    "    'dropoff_grid': 'int32',\n",
    "    'dropoff_grid_x': 'int32',\n",
    "    'dropoff_grid_y': 'int32',\n",
    "    'pickup_timeinterval_index': 'int32',\n",
    "    'dropoff_timeinterval_index': 'int32'\n",
    "})\n",
    "data.info()"
   ]
  },
  {
   "cell_type": "code",
   "execution_count": 92,
   "metadata": {},
   "outputs": [
    {
     "data": {
      "text/html": [
       "<div>\n",
       "<style scoped>\n",
       "    .dataframe tbody tr th:only-of-type {\n",
       "        vertical-align: middle;\n",
       "    }\n",
       "\n",
       "    .dataframe tbody tr th {\n",
       "        vertical-align: top;\n",
       "    }\n",
       "\n",
       "    .dataframe thead th {\n",
       "        text-align: right;\n",
       "    }\n",
       "</style>\n",
       "<table border=\"1\" class=\"dataframe\">\n",
       "  <thead>\n",
       "    <tr style=\"text-align: right;\">\n",
       "      <th></th>\n",
       "      <th>tpep_pickup_datetime</th>\n",
       "      <th>tpep_dropoff_datetime</th>\n",
       "      <th>trip_distance</th>\n",
       "      <th>pickup_longitude</th>\n",
       "      <th>pickup_latitude</th>\n",
       "      <th>dropoff_longitude</th>\n",
       "      <th>dropoff_latitude</th>\n",
       "      <th>fare_amount</th>\n",
       "      <th>trip_duration</th>\n",
       "      <th>speed</th>\n",
       "      <th>pickup_grid</th>\n",
       "      <th>pickup_grid_x</th>\n",
       "      <th>pickup_grid_y</th>\n",
       "      <th>dropoff_grid</th>\n",
       "      <th>dropoff_grid_x</th>\n",
       "      <th>dropoff_grid_y</th>\n",
       "      <th>pickup_timeinterval_index</th>\n",
       "      <th>dropoff_timeinterval_index</th>\n",
       "    </tr>\n",
       "  </thead>\n",
       "  <tbody>\n",
       "    <tr>\n",
       "      <th>12209107</th>\n",
       "      <td>2016-03-31 23:53:55</td>\n",
       "      <td>2016-04-01 23:51:49</td>\n",
       "      <td>2.51</td>\n",
       "      <td>-73.999725</td>\n",
       "      <td>40.731182</td>\n",
       "      <td>-73.980072</td>\n",
       "      <td>40.760113</td>\n",
       "      <td>10.0</td>\n",
       "      <td>86274.0</td>\n",
       "      <td>0.104736</td>\n",
       "      <td>392</td>\n",
       "      <td>7</td>\n",
       "      <td>11</td>\n",
       "      <td>783</td>\n",
       "      <td>13</td>\n",
       "      <td>22</td>\n",
       "      <td>6551</td>\n",
       "      <td>6623</td>\n",
       "    </tr>\n",
       "    <tr>\n",
       "      <th>12207170</th>\n",
       "      <td>2016-03-31 23:48:08</td>\n",
       "      <td>2016-04-01 23:47:03</td>\n",
       "      <td>3.96</td>\n",
       "      <td>-73.987778</td>\n",
       "      <td>40.721241</td>\n",
       "      <td>-73.954132</td>\n",
       "      <td>40.770302</td>\n",
       "      <td>16.0</td>\n",
       "      <td>86335.0</td>\n",
       "      <td>0.165124</td>\n",
       "      <td>291</td>\n",
       "      <td>11</td>\n",
       "      <td>8</td>\n",
       "      <td>930</td>\n",
       "      <td>20</td>\n",
       "      <td>26</td>\n",
       "      <td>6551</td>\n",
       "      <td>6623</td>\n",
       "    </tr>\n",
       "    <tr>\n",
       "      <th>12208554</th>\n",
       "      <td>2016-03-31 23:52:18</td>\n",
       "      <td>2016-04-01 23:43:40</td>\n",
       "      <td>1.46</td>\n",
       "      <td>-73.976868</td>\n",
       "      <td>40.748909</td>\n",
       "      <td>-73.988159</td>\n",
       "      <td>40.732040</td>\n",
       "      <td>7.0</td>\n",
       "      <td>85882.0</td>\n",
       "      <td>0.061200</td>\n",
       "      <td>644</td>\n",
       "      <td>14</td>\n",
       "      <td>18</td>\n",
       "      <td>430</td>\n",
       "      <td>10</td>\n",
       "      <td>12</td>\n",
       "      <td>6551</td>\n",
       "      <td>6623</td>\n",
       "    </tr>\n",
       "    <tr>\n",
       "      <th>12205709</th>\n",
       "      <td>2016-03-31 23:43:47</td>\n",
       "      <td>2016-04-01 23:39:17</td>\n",
       "      <td>0.85</td>\n",
       "      <td>-73.977997</td>\n",
       "      <td>40.725403</td>\n",
       "      <td>-73.988258</td>\n",
       "      <td>40.720055</td>\n",
       "      <td>6.5</td>\n",
       "      <td>86130.0</td>\n",
       "      <td>0.035528</td>\n",
       "      <td>328</td>\n",
       "      <td>13</td>\n",
       "      <td>9</td>\n",
       "      <td>255</td>\n",
       "      <td>10</td>\n",
       "      <td>7</td>\n",
       "      <td>6551</td>\n",
       "      <td>6622</td>\n",
       "    </tr>\n",
       "    <tr>\n",
       "      <th>12201637</th>\n",
       "      <td>2016-03-31 23:32:00</td>\n",
       "      <td>2016-04-01 23:30:19</td>\n",
       "      <td>2.67</td>\n",
       "      <td>-73.977715</td>\n",
       "      <td>40.745529</td>\n",
       "      <td>-73.955490</td>\n",
       "      <td>40.778637</td>\n",
       "      <td>12.0</td>\n",
       "      <td>86299.0</td>\n",
       "      <td>0.111380</td>\n",
       "      <td>608</td>\n",
       "      <td>13</td>\n",
       "      <td>17</td>\n",
       "      <td>1035</td>\n",
       "      <td>20</td>\n",
       "      <td>29</td>\n",
       "      <td>6550</td>\n",
       "      <td>6622</td>\n",
       "    </tr>\n",
       "    <tr>\n",
       "      <th>...</th>\n",
       "      <td>...</td>\n",
       "      <td>...</td>\n",
       "      <td>...</td>\n",
       "      <td>...</td>\n",
       "      <td>...</td>\n",
       "      <td>...</td>\n",
       "      <td>...</td>\n",
       "      <td>...</td>\n",
       "      <td>...</td>\n",
       "      <td>...</td>\n",
       "      <td>...</td>\n",
       "      <td>...</td>\n",
       "      <td>...</td>\n",
       "      <td>...</td>\n",
       "      <td>...</td>\n",
       "      <td>...</td>\n",
       "      <td>...</td>\n",
       "      <td>...</td>\n",
       "    </tr>\n",
       "    <tr>\n",
       "      <th>30</th>\n",
       "      <td>2016-01-01 00:00:14</td>\n",
       "      <td>2016-01-01 00:02:38</td>\n",
       "      <td>0.44</td>\n",
       "      <td>-73.990273</td>\n",
       "      <td>40.772011</td>\n",
       "      <td>-73.995041</td>\n",
       "      <td>40.769772</td>\n",
       "      <td>4.0</td>\n",
       "      <td>144.0</td>\n",
       "      <td>11.000000</td>\n",
       "      <td>920</td>\n",
       "      <td>10</td>\n",
       "      <td>26</td>\n",
       "      <td>884</td>\n",
       "      <td>9</td>\n",
       "      <td>25</td>\n",
       "      <td>0</td>\n",
       "      <td>0</td>\n",
       "    </tr>\n",
       "    <tr>\n",
       "      <th>137</th>\n",
       "      <td>2016-01-01 00:01:27</td>\n",
       "      <td>2016-01-01 00:02:33</td>\n",
       "      <td>0.10</td>\n",
       "      <td>-73.955177</td>\n",
       "      <td>40.773174</td>\n",
       "      <td>-73.956230</td>\n",
       "      <td>40.772038</td>\n",
       "      <td>3.0</td>\n",
       "      <td>66.0</td>\n",
       "      <td>5.454545</td>\n",
       "      <td>965</td>\n",
       "      <td>20</td>\n",
       "      <td>27</td>\n",
       "      <td>929</td>\n",
       "      <td>19</td>\n",
       "      <td>26</td>\n",
       "      <td>0</td>\n",
       "      <td>0</td>\n",
       "    </tr>\n",
       "    <tr>\n",
       "      <th>27</th>\n",
       "      <td>2016-01-01 00:00:10</td>\n",
       "      <td>2016-01-01 00:02:20</td>\n",
       "      <td>0.87</td>\n",
       "      <td>-73.954407</td>\n",
       "      <td>40.778069</td>\n",
       "      <td>-73.948929</td>\n",
       "      <td>40.788582</td>\n",
       "      <td>4.5</td>\n",
       "      <td>130.0</td>\n",
       "      <td>24.092308</td>\n",
       "      <td>1035</td>\n",
       "      <td>20</td>\n",
       "      <td>29</td>\n",
       "      <td>1142</td>\n",
       "      <td>22</td>\n",
       "      <td>32</td>\n",
       "      <td>0</td>\n",
       "      <td>0</td>\n",
       "    </tr>\n",
       "    <tr>\n",
       "      <th>28</th>\n",
       "      <td>2016-01-01 00:00:12</td>\n",
       "      <td>2016-01-01 00:01:17</td>\n",
       "      <td>0.13</td>\n",
       "      <td>-73.991653</td>\n",
       "      <td>40.754559</td>\n",
       "      <td>-73.990601</td>\n",
       "      <td>40.756119</td>\n",
       "      <td>3.0</td>\n",
       "      <td>65.0</td>\n",
       "      <td>7.200000</td>\n",
       "      <td>710</td>\n",
       "      <td>10</td>\n",
       "      <td>20</td>\n",
       "      <td>710</td>\n",
       "      <td>10</td>\n",
       "      <td>20</td>\n",
       "      <td>0</td>\n",
       "      <td>0</td>\n",
       "    </tr>\n",
       "    <tr>\n",
       "      <th>12</th>\n",
       "      <td>2016-01-01 00:00:03</td>\n",
       "      <td>2016-01-01 00:00:11</td>\n",
       "      <td>0.01</td>\n",
       "      <td>-73.989021</td>\n",
       "      <td>40.721539</td>\n",
       "      <td>-73.988960</td>\n",
       "      <td>40.721699</td>\n",
       "      <td>2.5</td>\n",
       "      <td>8.0</td>\n",
       "      <td>4.500000</td>\n",
       "      <td>290</td>\n",
       "      <td>10</td>\n",
       "      <td>8</td>\n",
       "      <td>290</td>\n",
       "      <td>10</td>\n",
       "      <td>8</td>\n",
       "      <td>0</td>\n",
       "      <td>0</td>\n",
       "    </tr>\n",
       "  </tbody>\n",
       "</table>\n",
       "<p>29889639 rows × 18 columns</p>\n",
       "</div>"
      ],
      "text/plain": [
       "         tpep_pickup_datetime tpep_dropoff_datetime  trip_distance  \\\n",
       "12209107  2016-03-31 23:53:55   2016-04-01 23:51:49           2.51   \n",
       "12207170  2016-03-31 23:48:08   2016-04-01 23:47:03           3.96   \n",
       "12208554  2016-03-31 23:52:18   2016-04-01 23:43:40           1.46   \n",
       "12205709  2016-03-31 23:43:47   2016-04-01 23:39:17           0.85   \n",
       "12201637  2016-03-31 23:32:00   2016-04-01 23:30:19           2.67   \n",
       "...                       ...                   ...            ...   \n",
       "30        2016-01-01 00:00:14   2016-01-01 00:02:38           0.44   \n",
       "137       2016-01-01 00:01:27   2016-01-01 00:02:33           0.10   \n",
       "27        2016-01-01 00:00:10   2016-01-01 00:02:20           0.87   \n",
       "28        2016-01-01 00:00:12   2016-01-01 00:01:17           0.13   \n",
       "12        2016-01-01 00:00:03   2016-01-01 00:00:11           0.01   \n",
       "\n",
       "          pickup_longitude  pickup_latitude  dropoff_longitude  \\\n",
       "12209107        -73.999725        40.731182         -73.980072   \n",
       "12207170        -73.987778        40.721241         -73.954132   \n",
       "12208554        -73.976868        40.748909         -73.988159   \n",
       "12205709        -73.977997        40.725403         -73.988258   \n",
       "12201637        -73.977715        40.745529         -73.955490   \n",
       "...                    ...              ...                ...   \n",
       "30              -73.990273        40.772011         -73.995041   \n",
       "137             -73.955177        40.773174         -73.956230   \n",
       "27              -73.954407        40.778069         -73.948929   \n",
       "28              -73.991653        40.754559         -73.990601   \n",
       "12              -73.989021        40.721539         -73.988960   \n",
       "\n",
       "          dropoff_latitude  fare_amount  trip_duration      speed  \\\n",
       "12209107         40.760113         10.0        86274.0   0.104736   \n",
       "12207170         40.770302         16.0        86335.0   0.165124   \n",
       "12208554         40.732040          7.0        85882.0   0.061200   \n",
       "12205709         40.720055          6.5        86130.0   0.035528   \n",
       "12201637         40.778637         12.0        86299.0   0.111380   \n",
       "...                    ...          ...            ...        ...   \n",
       "30               40.769772          4.0          144.0  11.000000   \n",
       "137              40.772038          3.0           66.0   5.454545   \n",
       "27               40.788582          4.5          130.0  24.092308   \n",
       "28               40.756119          3.0           65.0   7.200000   \n",
       "12               40.721699          2.5            8.0   4.500000   \n",
       "\n",
       "          pickup_grid  pickup_grid_x  pickup_grid_y  dropoff_grid  \\\n",
       "12209107          392              7             11           783   \n",
       "12207170          291             11              8           930   \n",
       "12208554          644             14             18           430   \n",
       "12205709          328             13              9           255   \n",
       "12201637          608             13             17          1035   \n",
       "...               ...            ...            ...           ...   \n",
       "30                920             10             26           884   \n",
       "137               965             20             27           929   \n",
       "27               1035             20             29          1142   \n",
       "28                710             10             20           710   \n",
       "12                290             10              8           290   \n",
       "\n",
       "          dropoff_grid_x  dropoff_grid_y  pickup_timeinterval_index  \\\n",
       "12209107              13              22                       6551   \n",
       "12207170              20              26                       6551   \n",
       "12208554              10              12                       6551   \n",
       "12205709              10               7                       6551   \n",
       "12201637              20              29                       6550   \n",
       "...                  ...             ...                        ...   \n",
       "30                     9              25                          0   \n",
       "137                   19              26                          0   \n",
       "27                    22              32                          0   \n",
       "28                    10              20                          0   \n",
       "12                    10               8                          0   \n",
       "\n",
       "          dropoff_timeinterval_index  \n",
       "12209107                        6623  \n",
       "12207170                        6623  \n",
       "12208554                        6623  \n",
       "12205709                        6622  \n",
       "12201637                        6622  \n",
       "...                              ...  \n",
       "30                                 0  \n",
       "137                                0  \n",
       "27                                 0  \n",
       "28                                 0  \n",
       "12                                 0  \n",
       "\n",
       "[29889639 rows x 18 columns]"
      ]
     },
     "execution_count": 92,
     "metadata": {},
     "output_type": "execute_result"
    }
   ],
   "source": [
    "data.sort_values(by='tpep_dropoff_datetime', ascending=False)"
   ]
  },
  {
   "cell_type": "code",
   "execution_count": 15,
   "metadata": {},
   "outputs": [],
   "source": [
    "graph_data = data[\n",
    "    [\"pickup_grid\", \"pickup_grid_x\", \"pickup_grid_y\", \n",
    "     \"dropoff_grid\", \"dropoff_grid_x\", \"dropoff_grid_y\", \n",
    "     \"pickup_timeinterval_index\", \"dropoff_timeinterval_index\"]\n",
    "]\n",
    "max_timeinterval_index = max(graph_data[\"pickup_timeinterval_index\"])+1\n",
    "number_of_nodes = H*W\n",
    "\n",
    "pickup_counts = np.zeros((number_of_nodes, max_timeinterval_index))\n",
    "dropoff_counts = np.zeros_like(pickup_counts)\n",
    "\n",
    "# A tensor: channel x height x width\n",
    "# width: number of grids in x axis\n",
    "# height: number of grids in y axis\n",
    "# number of channels: number of time intervals\n",
    "# cell value: pickup / dropoff counts\n",
    "grid_pickup_counts = np.zeros((max_timeinterval_index, H, W))\n",
    "grid_dropoff_counts = np.zeros_like(grid_pickup_counts)\n",
    "\n",
    "pickup_grid_time_count = graph_data.groupby(['pickup_timeinterval_index', 'pickup_grid', 'pickup_grid_x', 'pickup_grid_y'])\\\n",
    "                            ['dropoff_grid'].count().reset_index(name='count')\n",
    "\n",
    "# pickup_grid_time_count\n",
    "pickup_counts[\n",
    "    pickup_grid_time_count['pickup_grid'],\n",
    "    pickup_grid_time_count['pickup_timeinterval_index']\n",
    "] = pickup_grid_time_count['count'].values\n",
    "\n",
    "grid_pickup_counts[\n",
    "    pickup_grid_time_count['pickup_timeinterval_index'],\n",
    "    pickup_grid_time_count['pickup_grid_y'], \n",
    "    pickup_grid_time_count['pickup_grid_x']\n",
    "] = pickup_grid_time_count['count'].values\n",
    "\n",
    "\n",
    "dropoff_grid_time_count = graph_data[graph_data.dropoff_timeinterval_index < max_timeinterval_index]\\\n",
    "                            .groupby(['dropoff_timeinterval_index', 'dropoff_grid', 'dropoff_grid_x', 'dropoff_grid_y'])\\\n",
    "                            ['pickup_grid'].count().reset_index(name='count')\n",
    "\n",
    "# dropoff_grid_time_count\n",
    "dropoff_counts[\n",
    "    dropoff_grid_time_count['dropoff_grid'],\n",
    "    dropoff_grid_time_count['dropoff_timeinterval_index']\n",
    "] = dropoff_grid_time_count['count'].values\n",
    "\n",
    "grid_dropoff_counts[\n",
    "    dropoff_grid_time_count['dropoff_timeinterval_index'],\n",
    "    dropoff_grid_time_count['dropoff_grid_y'], \n",
    "    dropoff_grid_time_count['dropoff_grid_x']\n",
    "] = dropoff_grid_time_count['count'].values\n",
    "\n",
    "grid_pickup_counts = torch.Tensor(grid_pickup_counts)\n",
    "grid_dropoff_counts = torch.Tensor(grid_dropoff_counts)"
   ]
  },
  {
   "cell_type": "code",
   "execution_count": 33,
   "metadata": {},
   "outputs": [
    {
     "name": "stdout",
     "output_type": "stream",
     "text": [
      "(2345, 6552) (6552,)\n"
     ]
    },
    {
     "data": {
      "text/plain": [
       "(2345, 16)"
      ]
     },
     "execution_count": 33,
     "metadata": {},
     "output_type": "execute_result"
    }
   ],
   "source": [
    "from scipy import fft\n",
    "sig_fft = fft.fft(pickup_counts)\n",
    "sig_fft_real = 2 * np.abs(sig_fft / pickup_counts.shape[1])\n",
    "sig_freqs = fft.fftfreq(pickup_counts.shape[1], 1 / (24 * 3))\n",
    "\n",
    "print(sig_fft_real.shape, sig_freqs.shape)\n",
    "\n",
    "pos_freq_mask = sig_freqs > 0\n",
    "\n",
    "sig_freqs_masked = np.tile(sig_freqs[pos_freq_mask], (number_of_nodes, 1))\n",
    "pos_freq_mask = np.tile(pos_freq_mask, (number_of_nodes, 1))\n",
    "sig_fft_real_masked = sig_fft_real[pos_freq_mask].reshape(number_of_nodes, -1)\n",
    "sig_freqs_masked.shape, sig_fft_real_masked.shape\n",
    "\n",
    "#pick the 10 largest freqquencies\n",
    "k=8\n",
    "k_largest_indices = np.argpartition(sig_freqs_masked, k)\n",
    "fourier_amplitudes = sig_fft_real_masked[:, -k:]\n",
    "fourier_frequencies = sig_freqs_masked[:, -k:]\n",
    "\n",
    "# fourier_amplitudes.shape, fourier_frequencies.shape\n",
    "fourier_features = np.hstack((fourier_amplitudes, fourier_frequencies))\n",
    "fourier_features.shape"
   ]
  },
  {
   "cell_type": "code",
   "execution_count": 38,
   "metadata": {},
   "outputs": [
    {
     "data": {
      "text/plain": [
       "tensor(True)"
      ]
     },
     "execution_count": 38,
     "metadata": {},
     "output_type": "execute_result"
    }
   ],
   "source": [
    "fourier_reshaped = torch.Tensor(fourier_features).view((H, W, -1)).permute(2, 0, 1)\n",
    "# (fourier_reshaped[0][0] == torch.Tensor(fourier_features[0])).all()\n",
    "# (fourier_reshaped == torch.Tensor(fourier_features).reshape((-1, H, W))).all()\n",
    "(fourier_reshaped.view((-1, H*W)).permute(1, 0) == torch.Tensor(fourier_features)).all()"
   ]
  },
  {
   "cell_type": "code",
   "execution_count": 28,
   "metadata": {},
   "outputs": [],
   "source": [
    "def get_time_features(timeIntervalIndex, number_of_nodes):\n",
    "    # hour of day, day of week: will be same for all nodes in the particular time interval\n",
    "    time_interval_starting_timestamp = min_timestamp + timeIntervalIndex * pd.Timedelta('%s minutes' % time_interval_length)\n",
    "    hour_of_day = time_interval_starting_timestamp.hour\n",
    "    day_of_week = time_interval_starting_timestamp.dayofweek\n",
    "    month_of_year = time_interval_starting_timestamp.month - 1\n",
    "    \n",
    "    # print(hour_of_day, day_of_week, month_of_year)\n",
    "    \n",
    "    hour = np.zeros((number_of_nodes, 24))\n",
    "    hour[:, hour_of_day] = 1\n",
    "    \n",
    "    day = np.zeros((number_of_nodes, 7))\n",
    "    day[:, day_of_week] = 1\n",
    "    \n",
    "    month = np.zeros((number_of_nodes, 12))\n",
    "    month[:, month_of_year] = 1\n",
    "    \n",
    "    return np.hstack((hour, day, month))"
   ]
  },
  {
   "cell_type": "code",
   "execution_count": 39,
   "metadata": {},
   "outputs": [
    {
     "name": "stdout",
     "output_type": "stream",
     "text": [
      "torch.Size([6552, 2345, 79])\n"
     ]
    }
   ],
   "source": [
    "'''\n",
    "feature dimensions:\n",
    "hour_of_day: possible values are 0-23, Dimension in one hot encoding = 24\n",
    "day of week: possible values: 0-6, Dimension in one hot encoding = 7\n",
    "month of year: possible values: 0-11, Dimension in one hot encoding = 12\n",
    "pickup count history: Dimension 's'\n",
    "weighted moving avergae of pickup count: Dimension 1\n",
    "dropoff count history: 2 hours data, 2*3 = 6 timeinterval data, Dimesion 6\n",
    "fourier frequencies: Dimension 96\n",
    "fourier amplitudes: Dimension 96\n",
    "Total Dimension: (24 + 7 + 12 + s + 1 + 6 + 96 * 2)\n",
    "'''\n",
    "\n",
    "s = 5\n",
    "train_start_index = s * 7 * 24 * 3\n",
    "fourier_features = torch.Tensor(fourier_features).reshape((H, W, -1)).permute(2, 0, 1)\n",
    "\n",
    "# feature_dimension = 24 + 7 + 12 + s + 1 + 6 + fourier_features.shape[1]\n",
    "# feature_dimension = 24 + 7 + 12 + s*2 + s*2 + fourier_features.shape[1]\n",
    "feature_dimension = 24 + 7 + 12 + fourier_features.shape[0] + 2 * s + 2 * s\n",
    "\n",
    "calculated_features = torch.zeros((max_timeinterval_index, feature_dimension, H, W))\n",
    "\n",
    "for t in range(train_start_index, max_timeinterval_index):\n",
    "    # print('time interval index: %s/%s' % (t, max_timeinterval_index))\n",
    "    X_time_features = get_time_features(t, number_of_nodes)\n",
    "    X_time_features = torch.Tensor(X_time_features).view((H, W, -1)).permute(2, 0, 1)\n",
    "    # print(X_time_features.shape)\n",
    "    \n",
    "    # Gather recent and spatially proximate features\n",
    "    recent_pickup_features = grid_pickup_counts[t-s:t]  # shape: channels(last 5 timeindices) x height x width\n",
    "    recent_dropoff_features = grid_dropoff_counts[t-s:t]  # shape: channels(last 5 timeindices) x height x width\n",
    "    # print(recent_pickup_features.shape, recent_dropoff_features.shape)\n",
    "    \n",
    "    # historical pickup,dropoff feature\n",
    "    pickup_history_features = grid_pickup_counts[range(t-s*7*24*3, t, 7*24*3)]\n",
    "    dropoff_history_features = grid_dropoff_counts[range(t-s*7*24*3, t, 7*24*3)]\n",
    "    # print(pickup_history_features.shape, dropoff_history_features.shape)\n",
    "    # print(pickup_count_features.shape, dropoff_count_features.shape, X_time_features.shape, fourier_features.shape)\n",
    "    \n",
    "    calculated_features[t] = torch.cat((\n",
    "        X_time_features, \n",
    "        fourier_features,\n",
    "        recent_pickup_features, \n",
    "        recent_dropoff_features, \n",
    "        pickup_history_features, \n",
    "        dropoff_history_features\n",
    "    ))\n",
    "    \n",
    "\n",
    "calculated_features = calculated_features.view((max_timeinterval_index, feature_dimension, H*W)).permute(0, 2, 1)\n",
    "print(calculated_features.shape)"
   ]
  },
  {
   "cell_type": "code",
   "execution_count": 40,
   "metadata": {},
   "outputs": [
    {
     "name": "stdout",
     "output_type": "stream",
     "text": [
      "torch.Size([6552, 2345, 79])\n"
     ]
    }
   ],
   "source": [
    "# normalize the features for MLP\n",
    "train_start_index = s * 7 * 24 * 3\n",
    "dataset_size = len(range(train_start_index, max_timeinterval_index))\n",
    "train_size = int(dataset_size * 0.8)\n",
    "\n",
    "scaler = StandardScaler()\n",
    "\n",
    "# scale data using only the training data\n",
    "for t in range(train_start_index, train_start_index + train_size):\n",
    "    scaler.partial_fit(calculated_features[t])\n",
    "    \n",
    "for t in range(train_start_index, max_timeinterval_index):\n",
    "    calculated_features[t] = torch.Tensor(scaler.transform(calculated_features[t]))\n",
    "    \n",
    "print(calculated_features.shape)"
   ]
  },
  {
   "cell_type": "code",
   "execution_count": 41,
   "metadata": {},
   "outputs": [],
   "source": [
    "target_values = torch.Tensor(pickup_counts.T)"
   ]
  },
  {
   "cell_type": "code",
   "execution_count": 42,
   "metadata": {},
   "outputs": [
    {
     "name": "stdout",
     "output_type": "stream",
     "text": [
      "3225 807\n"
     ]
    }
   ],
   "source": [
    "# Design a dataloader\n",
    "\n",
    "dataset = TensorDataset(\n",
    "    calculated_features[train_start_index:, ],\n",
    "    target_values[train_start_index:, ]\n",
    ")\n",
    "\n",
    "train_dataset, val_dataset = Subset(dataset, range(train_size)), Subset(dataset, range(train_size, len(dataset)))\n",
    "\n",
    "train_dataloader = DataLoader(train_dataset, batch_size=None, shuffle=False, pin_memory=False)\n",
    "val_dataloader = DataLoader(val_dataset, batch_size=None, shuffle=False, pin_memory=False)\n",
    "\n",
    "print(len(train_dataloader), len(val_dataloader))"
   ]
  },
  {
   "cell_type": "code",
   "execution_count": 43,
   "metadata": {},
   "outputs": [],
   "source": [
    "class MLP(nn.Module):\n",
    "    def __init__(self, feature_length):\n",
    "        super(MLP, self).__init__()\n",
    "        \n",
    "        self.fc1 = nn.Linear(feature_length, 64)\n",
    "        self.relu1 = nn.ReLU()\n",
    "        \n",
    "        self.fc2 = nn.Linear(64, 32)\n",
    "        self.relu2 = nn.ReLU()\n",
    "        \n",
    "        self.fc3 = nn.Linear(32, 1)\n",
    "        self.relu3 = nn.ReLU()\n",
    "        \n",
    "    def forward(self, x):\n",
    "        x = self.relu1(self.fc1(x))\n",
    "        x = self.relu2(self.fc2(x))\n",
    "        x = self.relu3(self.fc3(x))\n",
    "        return x"
   ]
  },
  {
   "cell_type": "code",
   "execution_count": 44,
   "metadata": {},
   "outputs": [
    {
     "name": "stdout",
     "output_type": "stream",
     "text": [
      "torch.Size([2345, 79]) torch.Size([2345])\n",
      "torch.Size([2345, 1])\n"
     ]
    }
   ],
   "source": [
    "model = MLP(feature_length=feature_dimension)\n",
    "\n",
    "for i, (feature, target_value) in enumerate(train_dataloader):\n",
    "    print(feature.shape, target_value.shape)\n",
    "    output = model(feature)\n",
    "    print(output.shape)\n",
    "    break"
   ]
  },
  {
   "cell_type": "code",
   "execution_count": 45,
   "metadata": {},
   "outputs": [],
   "source": [
    "from torch.optim.lr_scheduler import ReduceLROnPlateau\n",
    "import torch.optim as optim\n",
    "\n",
    "learning_rate = 0.005\n",
    "\n",
    "model = MLP(feature_length=feature_dimension)\n",
    "model.cuda()\n",
    "\n",
    "optimizer = optim.Adam(\n",
    "    model.parameters(), \n",
    "    lr=learning_rate, \n",
    "    weight_decay=5e-4\n",
    ")\n",
    "\n",
    "scheduler = ReduceLROnPlateau(optimizer, mode='min', factor=0.5, patience=10, verbose=True)"
   ]
  },
  {
   "cell_type": "code",
   "execution_count": 47,
   "metadata": {},
   "outputs": [],
   "source": [
    "def train(feature, target_value):\n",
    "    model.train()\n",
    "    optimizer.zero_grad()\n",
    "    output = model(feature)\n",
    "    loss_train = F.mse_loss(output, target_value)\n",
    "    loss_train.backward()\n",
    "    optimizer.step()\n",
    "    mae_loss = F.l1_loss(output, target_value)\n",
    "    rmsle_loss = torch.sqrt(F.mse_loss(torch.log(output + 1), torch.log(target_value + 1)))\n",
    "    # print(rmsle_loss.shape, rmsle_loss)\n",
    "    return loss_train.item(), mae_loss.item(), rmsle_loss.item()\n",
    "\n",
    "# Train model\n",
    "def train_model(number_of_epochs):\n",
    "    train_losses_by_epoch = []\n",
    "    val_losses_by_epoch = []\n",
    "    for epoch in range(number_of_epochs):\n",
    "        train_losses = []\n",
    "        train_mae_losses = []\n",
    "        train_rmsle_losses = []\n",
    "        for i, (feature, target_value) in enumerate(train_dataloader):\n",
    "            loss, mae_loss, rmsle_loss = train(feature.cuda(), target_value.reshape(number_of_nodes, -1).cuda())\n",
    "            train_losses.append(loss)\n",
    "            train_mae_losses.append(mae_loss)\n",
    "            train_rmsle_losses.append(rmsle_loss)\n",
    "            # if (i % 500 == 0): print('i=',i,'train rmse loss', np.mean(np.sqrt(train_losses)))\n",
    "            \n",
    "        mean_train_loss = np.mean(np.sqrt(train_losses))\n",
    "        mean_val_loss, mean_val_mae_loss, mean_val_rmsle_loss = get_validation_loss()\n",
    "        \n",
    "        train_losses_by_epoch.append((mean_train_loss, np.mean(train_mae_losses), np.mean(train_rmsle_losses)))\n",
    "        val_losses_by_epoch.append((mean_val_loss, mean_val_mae_loss, mean_val_rmsle_loss))\n",
    "        \n",
    "        print(\n",
    "            'Epoch: {:04d}'.format(epoch+1),\n",
    "            'train rmse loss: {:.4f}'.format(mean_train_loss),\n",
    "            'val rmse loss: {:.4f}'.format(mean_val_loss)\n",
    "        )\n",
    "        scheduler.step(mean_train_loss)\n",
    "    return train_losses_by_epoch, val_losses_by_epoch\n",
    "\n",
    "\n",
    "def get_validation_loss():\n",
    "    val_losses = []\n",
    "    val_mae_losses = []\n",
    "    val_rmsle_losses = []\n",
    "    for i, (feature, target_value) in enumerate(val_dataloader):\n",
    "        model.eval()\n",
    "        feature = feature.cuda()\n",
    "        target_value = target_value.cuda()\n",
    "        output = model(feature)\n",
    "        loss_val = F.mse_loss(output, target_value.reshape(number_of_nodes, -1))\n",
    "        mae_loss_val = F.l1_loss(output, target_value.reshape(number_of_nodes, -1))\n",
    "        rmsle_loss = torch.sqrt(F.mse_loss(torch.log(output + 1), torch.log(target_value.reshape(number_of_nodes, -1) + 1)))\n",
    "        # print(rmsle_loss)\n",
    "        val_losses.append(loss_val.item())\n",
    "        val_mae_losses.append(mae_loss_val.item())\n",
    "        val_rmsle_losses.append(rmsle_loss.item())\n",
    "        \n",
    "    return np.mean(np.sqrt(val_losses)), np.mean(val_mae_losses), np.mean(val_rmsle_losses)"
   ]
  },
  {
   "cell_type": "code",
   "execution_count": 49,
   "metadata": {},
   "outputs": [
    {
     "name": "stdout",
     "output_type": "stream",
     "text": [
      "Epoch: 0001 train rmse loss: 1.8600 val rmse loss: 1.8321\n",
      "Epoch: 0002 train rmse loss: 1.8410 val rmse loss: 1.7858\n",
      "Epoch: 0003 train rmse loss: 1.8337 val rmse loss: 1.7911\n",
      "Epoch: 0004 train rmse loss: 1.8321 val rmse loss: 1.7863\n",
      "Epoch: 0005 train rmse loss: 1.8340 val rmse loss: 1.7807\n",
      "Epoch: 0006 train rmse loss: 1.8312 val rmse loss: 1.7887\n",
      "Epoch: 0007 train rmse loss: 1.8277 val rmse loss: 1.7919\n",
      "Epoch: 0008 train rmse loss: 1.8282 val rmse loss: 1.7826\n",
      "Epoch: 0009 train rmse loss: 1.8279 val rmse loss: 1.7832\n",
      "Epoch: 0010 train rmse loss: 1.8243 val rmse loss: 1.7833\n",
      "Epoch: 0011 train rmse loss: 1.8278 val rmse loss: 1.7895\n",
      "Epoch: 0012 train rmse loss: 1.8287 val rmse loss: 1.7761\n",
      "Epoch: 0013 train rmse loss: 1.8266 val rmse loss: 1.7748\n",
      "Epoch: 0014 train rmse loss: 1.8270 val rmse loss: 1.7774\n",
      "Epoch: 0015 train rmse loss: 1.8272 val rmse loss: 1.7849\n",
      "Epoch: 0016 train rmse loss: 1.8269 val rmse loss: 1.7776\n",
      "Epoch: 0017 train rmse loss: 1.8221 val rmse loss: 1.7861\n",
      "Epoch: 0018 train rmse loss: 1.8242 val rmse loss: 1.7911\n",
      "Epoch: 0019 train rmse loss: 1.8240 val rmse loss: 1.7747\n",
      "Epoch: 0020 train rmse loss: 1.8261 val rmse loss: 1.7916\n",
      "Epoch: 0021 train rmse loss: 1.8239 val rmse loss: 1.7753\n",
      "Epoch: 0022 train rmse loss: 1.8262 val rmse loss: 1.7859\n",
      "Epoch: 0023 train rmse loss: 1.8238 val rmse loss: 1.7834\n",
      "Epoch: 0024 train rmse loss: 1.8227 val rmse loss: 1.7889\n",
      "Epoch: 0025 train rmse loss: 1.8244 val rmse loss: 1.7863\n",
      "Epoch: 0026 train rmse loss: 1.8243 val rmse loss: 1.7693\n",
      "Epoch: 0027 train rmse loss: 1.8228 val rmse loss: 1.7815\n",
      "Epoch: 0028 train rmse loss: 1.8254 val rmse loss: 1.8017\n",
      "Epoch    31: reducing learning rate of group 0 to 2.5000e-03.\n",
      "Epoch: 0029 train rmse loss: 1.8097 val rmse loss: 1.7628\n",
      "Epoch: 0030 train rmse loss: 1.8090 val rmse loss: 1.7715\n",
      "Epoch: 0031 train rmse loss: 1.8073 val rmse loss: 1.7670\n",
      "Epoch: 0032 train rmse loss: 1.8057 val rmse loss: 1.7655\n",
      "Epoch: 0033 train rmse loss: 1.8050 val rmse loss: 1.7627\n",
      "Epoch: 0034 train rmse loss: 1.8026 val rmse loss: 1.7703\n",
      "Epoch: 0035 train rmse loss: 1.8032 val rmse loss: 1.7667\n",
      "Epoch: 0036 train rmse loss: 1.8016 val rmse loss: 1.7675\n",
      "Epoch: 0037 train rmse loss: 1.8025 val rmse loss: 1.7620\n",
      "Epoch: 0038 train rmse loss: 1.8017 val rmse loss: 1.7617\n",
      "Epoch: 0039 train rmse loss: 1.8044 val rmse loss: 1.7689\n",
      "Epoch: 0040 train rmse loss: 1.8010 val rmse loss: 1.7683\n",
      "Epoch: 0041 train rmse loss: 1.8017 val rmse loss: 1.7642\n",
      "Epoch: 0042 train rmse loss: 1.7988 val rmse loss: 1.7634\n",
      "Epoch: 0043 train rmse loss: 1.8000 val rmse loss: 1.7675\n",
      "Epoch: 0044 train rmse loss: 1.8017 val rmse loss: 1.7689\n",
      "Epoch: 0045 train rmse loss: 1.8003 val rmse loss: 1.7703\n",
      "Epoch: 0046 train rmse loss: 1.7992 val rmse loss: 1.7645\n",
      "Epoch: 0047 train rmse loss: 1.7999 val rmse loss: 1.7661\n",
      "Epoch: 0048 train rmse loss: 1.8000 val rmse loss: 1.7660\n",
      "Epoch: 0049 train rmse loss: 1.8011 val rmse loss: 1.7696\n",
      "Epoch: 0050 train rmse loss: 1.8016 val rmse loss: 1.7684\n",
      "Epoch: 0051 train rmse loss: 1.7999 val rmse loss: 1.7821\n",
      "Epoch: 0052 train rmse loss: 1.8011 val rmse loss: 1.7683\n",
      "Epoch: 0053 train rmse loss: 1.8049 val rmse loss: 1.7640\n",
      "Epoch    56: reducing learning rate of group 0 to 1.2500e-03.\n",
      "Epoch: 0054 train rmse loss: 1.7981 val rmse loss: 1.7792\n",
      "Epoch: 0055 train rmse loss: 1.7942 val rmse loss: 1.7793\n",
      "Epoch: 0056 train rmse loss: 1.7937 val rmse loss: 1.7745\n",
      "Epoch: 0057 train rmse loss: 1.7917 val rmse loss: 1.7774\n",
      "Epoch: 0058 train rmse loss: 1.7911 val rmse loss: 1.7798\n",
      "Epoch: 0059 train rmse loss: 1.7902 val rmse loss: 1.7904\n",
      "Epoch: 0060 train rmse loss: 1.7893 val rmse loss: 1.7877\n",
      "Epoch: 0061 train rmse loss: 1.7896 val rmse loss: 1.8030\n",
      "Epoch: 0062 train rmse loss: 1.7881 val rmse loss: 1.8042\n",
      "Epoch: 0063 train rmse loss: 1.7878 val rmse loss: 1.8043\n",
      "Epoch: 0064 train rmse loss: 1.7872 val rmse loss: 1.7956\n",
      "Epoch: 0065 train rmse loss: 1.7875 val rmse loss: 1.7941\n",
      "Epoch: 0066 train rmse loss: 1.7873 val rmse loss: 1.7980\n",
      "Epoch: 0067 train rmse loss: 1.7863 val rmse loss: 1.7856\n",
      "Epoch: 0068 train rmse loss: 1.7860 val rmse loss: 1.8017\n",
      "Epoch: 0069 train rmse loss: 1.7857 val rmse loss: 1.7918\n",
      "Epoch: 0070 train rmse loss: 1.7857 val rmse loss: 1.7985\n",
      "Epoch: 0071 train rmse loss: 1.7846 val rmse loss: 1.7984\n",
      "Epoch: 0072 train rmse loss: 1.7854 val rmse loss: 1.7870\n",
      "Epoch: 0073 train rmse loss: 1.7853 val rmse loss: 1.7949\n",
      "Epoch: 0074 train rmse loss: 1.7849 val rmse loss: 1.7885\n",
      "Epoch: 0075 train rmse loss: 1.7858 val rmse loss: 1.7957\n",
      "Epoch: 0076 train rmse loss: 1.7844 val rmse loss: 1.7944\n",
      "Epoch: 0077 train rmse loss: 1.7838 val rmse loss: 1.8001\n",
      "Epoch: 0078 train rmse loss: 1.7841 val rmse loss: 1.8002\n",
      "Epoch: 0079 train rmse loss: 1.7843 val rmse loss: 1.7963\n",
      "Epoch: 0080 train rmse loss: 1.7849 val rmse loss: 1.7936\n",
      "Epoch: 0081 train rmse loss: 1.7837 val rmse loss: 1.7932\n",
      "Epoch: 0082 train rmse loss: 1.7830 val rmse loss: 1.7989\n",
      "Epoch: 0083 train rmse loss: 1.7839 val rmse loss: 1.7972\n",
      "Epoch: 0084 train rmse loss: 1.7839 val rmse loss: 1.7966\n",
      "Epoch: 0085 train rmse loss: 1.7832 val rmse loss: 1.8010\n",
      "Epoch: 0086 train rmse loss: 1.7835 val rmse loss: 1.7914\n",
      "Epoch: 0087 train rmse loss: 1.7829 val rmse loss: 1.8028\n",
      "Epoch: 0088 train rmse loss: 1.7831 val rmse loss: 1.7944\n",
      "Epoch: 0089 train rmse loss: 1.7828 val rmse loss: 1.8017\n",
      "Epoch: 0090 train rmse loss: 1.7828 val rmse loss: 1.8075\n",
      "Epoch: 0091 train rmse loss: 1.7825 val rmse loss: 1.7984\n",
      "Epoch: 0092 train rmse loss: 1.7827 val rmse loss: 1.7954\n",
      "Epoch: 0093 train rmse loss: 1.7829 val rmse loss: 1.8029\n",
      "Epoch: 0094 train rmse loss: 1.7826 val rmse loss: 1.8008\n",
      "Epoch: 0095 train rmse loss: 1.7826 val rmse loss: 1.8006\n",
      "Epoch: 0096 train rmse loss: 1.7823 val rmse loss: 1.8126\n",
      "Epoch: 0097 train rmse loss: 1.7823 val rmse loss: 1.8031\n",
      "Epoch: 0098 train rmse loss: 1.7827 val rmse loss: 1.7991\n",
      "Epoch: 0099 train rmse loss: 1.7818 val rmse loss: 1.8010\n",
      "Epoch: 0100 train rmse loss: 1.7817 val rmse loss: 1.8074\n"
     ]
    }
   ],
   "source": [
    "train_losses, val_losses = train_model(number_of_epochs=100)"
   ]
  },
  {
   "cell_type": "code",
   "execution_count": 72,
   "metadata": {},
   "outputs": [
    {
     "data": {
      "image/png": "[encoded data removed]",
      "text/plain": [
       "<Figure size 1080x360 with 2 Axes>"
      ]
     },
     "metadata": {
      "needs_background": "light"
     },
     "output_type": "display_data"
    }
   ],
   "source": [
    "fig, (ax1, ax2) = plt.subplots(1, 2, figsize=(15,5), sharex=True)\n",
    "fig.suptitle('MLP model')\n",
    "ax1.plot(range(100), [mse_loss for mse_loss, _, _ in train_losses], label='MLP - train MSE loss')\n",
    "ax1.plot(range(100), [mse_loss for mse_loss, _, _ in val_losses], label='MLP - validation MSE loss')\n",
    "ax2.plot(range(100), [mae_loss for _, mae_loss, _ in train_losses], label='MLP - train MAE loss')\n",
    "ax2.plot(range(100), [mae_loss for _, mae_loss, _ in val_losses], label='MLP - validation MAE loss')\n",
    "ax1.set_ylabel('MSE Loss')\n",
    "ax2.set_ylabel('MAE Loss')\n",
    "ax1.set_xlabel('Epoch')\n",
    "ax2.set_xlabel('Epoch')\n",
    "ax1.legend()\n",
    "ax2.legend()\n",
    "fig.savefig(\"mlp_model.pdf\", bbox_inches='tight', dpi=600)"
   ]
  },
  {
   "cell_type": "code",
   "execution_count": 51,
   "metadata": {},
   "outputs": [
    {
     "data": {
      "text/plain": [
       "<matplotlib.legend.Legend at 0x7fe5237a4dd0>"
      ]
     },
     "execution_count": 51,
     "metadata": {},
     "output_type": "execute_result"
    },
    {
     "data": {
      "image/png": "[encoded data removed]",
      "text/plain": [
       "<Figure size 432x288 with 1 Axes>"
      ]
     },
     "metadata": {
      "needs_background": "light"
     },
     "output_type": "display_data"
    }
   ],
   "source": [
    "f = plt.figure()\n",
    "plt.plot(range(100), [mse_loss for mse_loss, _, _ in train_losses], label='MLP - train rmse loss')\n",
    "plt.plot(range(100), [mse_loss for mse_loss, _, _ in val_losses], label='MLP - validation rmse loss')\n",
    "plt.legend()\n",
    "plt.ylabel('MSE Loss')\n",
    "plt.xlabel('epoch')\n",
    "plt.title('MLP Model')\n",
    "f.savefig(\".png\", bbox_inches='tight', dpi=600)"
   ]
  },
  {
   "cell_type": "code",
   "execution_count": 52,
   "metadata": {},
   "outputs": [
    {
     "data": {
      "text/plain": [
       "<matplotlib.legend.Legend at 0x7fe5234a0210>"
      ]
     },
     "execution_count": 52,
     "metadata": {},
     "output_type": "execute_result"
    },
    {
     "data": {
      "image/png": "[encoded data removed]",
      "text/plain": [
       "<Figure size 432x288 with 1 Axes>"
      ]
     },
     "metadata": {
      "needs_background": "light"
     },
     "output_type": "display_data"
    }
   ],
   "source": [
    "plt.plot(range(100), [mae_loss for _, mae_loss, _ in train_losses], label='MLP - train mae loss')\n",
    "plt.plot(range(100), [mae_loss for _, mae_loss, _ in val_losses], label='MLP - validation mae loss')\n",
    "plt.legend()"
   ]
  },
  {
   "cell_type": "code",
   "execution_count": 53,
   "metadata": {},
   "outputs": [
    {
     "data": {
      "text/plain": [
       "<matplotlib.legend.Legend at 0x7fe523339bd0>"
      ]
     },
     "execution_count": 53,
     "metadata": {},
     "output_type": "execute_result"
    },
    {
     "data": {
      "image/png": "[encoded data removed]",
      "text/plain": [
       "<Figure size 432x288 with 1 Axes>"
      ]
     },
     "metadata": {
      "needs_background": "light"
     },
     "output_type": "display_data"
    }
   ],
   "source": [
    "plt.plot(range(100), [rmsle_loss for _, _, rmsle_loss in train_losses], label='MLP - train rmsle loss')\n",
    "plt.plot(range(100), [rmsle_loss for _, _, rmsle_loss in val_losses], label='MLP - validation rmsle loss')\n",
    "plt.legend()"
   ]
  },
  {
   "cell_type": "code",
   "execution_count": 55,
   "metadata": {},
   "outputs": [],
   "source": [
    "# !mkdir CNN_model_results\n",
    "import pickle\n",
    "torch.save(model.state_dict(), 'MLP_model_results/mlp_model.pt')\n",
    "pickle.dump(train_losses, open('MLP_model_results/train_losses.pickle', 'wb'))\n",
    "pickle.dump(val_losses, open('MLP_model_results/val_losses.pickle', 'wb'))"
   ]
  }
 ],
 "metadata": {
  "kernelspec": {
   "display_name": "PyTorch 1.4.0 Py3.7",
   "language": "python",
   "name": "pytorch140_py37"
  },
  "language_info": {
   "codemirror_mode": {
    "name": "ipython",
    "version": 3
   },
   "file_extension": ".py",
   "mimetype": "text/x-python",
   "name": "python",
   "nbconvert_exporter": "python",
   "pygments_lexer": "ipython3",
   "version": "3.7.4"
  }
 },
 "nbformat": 4,
 "nbformat_minor": 4
}
