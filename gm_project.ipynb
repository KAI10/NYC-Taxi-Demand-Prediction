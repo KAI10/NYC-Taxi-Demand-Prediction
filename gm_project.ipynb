{
 "cells": [
  {
   "cell_type": "code",
   "execution_count": 151,
   "metadata": {
    "colab": {},
    "colab_type": "code",
    "id": "G51XuMtPfuTP"
   },
   "outputs": [],
   "source": [
    "from scipy.sparse import csr_matrix\n",
    "from math import ceil, floor\n",
    "\n",
    "from sklearn.preprocessing import StandardScaler\n",
    "import matplotlib.pyplot as plt\n",
    "import scipy.sparse as sp\n",
    "import pandas as pd\n",
    "import numpy as np"
   ]
  },
  {
   "cell_type": "code",
   "execution_count": 133,
   "metadata": {},
   "outputs": [],
   "source": [
    "import torch\n",
    "import torch.nn as nn\n",
    "import torch.nn.functional as F\n",
    "from torch.utils.data import DataLoader, TensorDataset, Subset"
   ]
  },
  {
   "cell_type": "code",
   "execution_count": 3,
   "metadata": {},
   "outputs": [
    {
     "name": "stdout",
     "output_type": "stream",
     "text": [
      "--2020-04-02 18:38:21--  https://s3.amazonaws.com/nyc-tlc/trip+data/yellow_tripdata_2016-01.csv\n",
      "Resolving s3.amazonaws.com (s3.amazonaws.com)... 52.216.89.174\n",
      "Connecting to s3.amazonaws.com (s3.amazonaws.com)|52.216.89.174|:443... connected.\n",
      "HTTP request sent, awaiting response... 200 OK\n",
      "Length: 1708674492 (1.6G) [application/octet-stream]\n",
      "Saving to: ‘yellow_tripdata_2016-01.csv’\n",
      "\n",
      "100%[====================================>] 1,708,674,492 69.9MB/s   in 25s    \n",
      "\n",
      "2020-04-02 18:38:46 (65.2 MB/s) - ‘yellow_tripdata_2016-01.csv’ saved [1708674492/1708674492]\n",
      "\n"
     ]
    }
   ],
   "source": [
    "!wget -c \"https://s3.amazonaws.com/nyc-tlc/trip+data/yellow_tripdata_2016-01.csv\""
   ]
  },
  {
   "cell_type": "code",
   "execution_count": 3,
   "metadata": {
    "colab": {
     "base_uri": "https://localhost:8080/",
     "height": 422
    },
    "colab_type": "code",
    "id": "OJAqRHIVf0Q6",
    "outputId": "65cb2028-dddb-4128-f7ce-fb4f7f4a0c9c"
   },
   "outputs": [
    {
     "name": "stdout",
     "output_type": "stream",
     "text": [
      "<class 'pandas.core.frame.DataFrame'>\n",
      "RangeIndex: 10906858 entries, 0 to 10906857\n",
      "Data columns (total 19 columns):\n",
      " #   Column                 Dtype  \n",
      "---  ------                 -----  \n",
      " 0   VendorID               int64  \n",
      " 1   tpep_pickup_datetime   object \n",
      " 2   tpep_dropoff_datetime  object \n",
      " 3   passenger_count        int64  \n",
      " 4   trip_distance          float64\n",
      " 5   pickup_longitude       float64\n",
      " 6   pickup_latitude        float64\n",
      " 7   RatecodeID             int64  \n",
      " 8   store_and_fwd_flag     object \n",
      " 9   dropoff_longitude      float64\n",
      " 10  dropoff_latitude       float64\n",
      " 11  payment_type           int64  \n",
      " 12  fare_amount            float64\n",
      " 13  extra                  float64\n",
      " 14  mta_tax                float64\n",
      " 15  tip_amount             float64\n",
      " 16  tolls_amount           float64\n",
      " 17  improvement_surcharge  float64\n",
      " 18  total_amount           float64\n",
      "dtypes: float64(12), int64(4), object(3)\n",
      "memory usage: 1.5+ GB\n"
     ]
    }
   ],
   "source": [
    "data = pd.read_csv(\"yellow_tripdata_2016-01.csv\")\n",
    "data.info()"
   ]
  },
  {
   "cell_type": "code",
   "execution_count": 4,
   "metadata": {
    "colab": {
     "base_uri": "https://localhost:8080/",
     "height": 134
    },
    "colab_type": "code",
    "id": "CtdVBEvSgAL3",
    "outputId": "155cacb7-e687-4301-a2f0-5c5a9c6a2e8e"
   },
   "outputs": [
    {
     "name": "stdout",
     "output_type": "stream",
     "text": [
      "<class 'pandas.core.frame.DataFrame'>\n",
      "RangeIndex: 10906858 entries, 0 to 10906857\n",
      "Data columns (total 8 columns):\n",
      " #   Column                 Dtype  \n",
      "---  ------                 -----  \n",
      " 0   tpep_pickup_datetime   object \n",
      " 1   tpep_dropoff_datetime  object \n",
      " 2   trip_distance          float64\n",
      " 3   pickup_longitude       float64\n",
      " 4   pickup_latitude        float64\n",
      " 5   dropoff_longitude      float64\n",
      " 6   dropoff_latitude       float64\n",
      " 7   fare_amount            float64\n",
      "dtypes: float64(6), object(2)\n",
      "memory usage: 665.7+ MB\n"
     ]
    }
   ],
   "source": [
    "data.drop([\n",
    "    'VendorID', 'passenger_count', 'RatecodeID', 'store_and_fwd_flag', \n",
    "    'payment_type', 'extra', 'mta_tax', 'tip_amount', 'tolls_amount',\n",
    "    'improvement_surcharge', 'total_amount'], \n",
    "    axis=1,\n",
    "    inplace = True\n",
    ")\n",
    "\n",
    "data.info()"
   ]
  },
  {
   "cell_type": "code",
   "execution_count": 5,
   "metadata": {
    "colab": {},
    "colab_type": "code",
    "id": "yYd27dMggE6l"
   },
   "outputs": [],
   "source": [
    "# filter the data by latitude, longitude\n",
    "import json\n",
    "manhattan_boundary = json.load(open('manhattan.geojson', 'r'))\n",
    "coords = manhattan_boundary['features'][0]['geometry']['coordinates'][0]\n",
    "\n",
    "min_lon = min([lon for lon, _ in coords])\n",
    "max_lon = max([lon for lon, _ in coords])\n",
    "min_lat = min([lat for _, lat in coords])\n",
    "max_lat = max([lat for _, lat in coords])\n",
    "\n",
    "data = data[(data[\"pickup_latitude\"] >= min_lat) & (data[\"pickup_latitude\"] <= max_lat) &\n",
    "                (data[\"pickup_longitude\"] >= min_lon) & (data[\"pickup_longitude\"] <= max_lon) &\n",
    "                (data[\"dropoff_latitude\"] >= min_lat) & (data[\"dropoff_latitude\"] <= max_lat) &\n",
    "                (data[\"dropoff_longitude\"] >= min_lon) & (data[\"dropoff_longitude\"] <= max_lon)]"
   ]
  },
  {
   "cell_type": "code",
   "execution_count": 6,
   "metadata": {
    "colab": {
     "base_uri": "https://localhost:8080/",
     "height": 34
    },
    "colab_type": "code",
    "id": "SGsEIW1SgIQ2",
    "outputId": "635d1bf7-0cdb-41ab-ec65-f95a52f7652f"
   },
   "outputs": [
    {
     "name": "stdout",
     "output_type": "stream",
     "text": [
      "99.9% of the fare amounts are less than:  52.0 dollars\n"
     ]
    }
   ],
   "source": [
    "# filter data by fare_amount\n",
    "print(\"99.9% of the fare amounts are less than: \", data[\"fare_amount\"].quantile(q=0.999), \"dollars\")\n",
    "data = data[(data[\"fare_amount\"] > 0) & (data[\"fare_amount\"] < 100)]"
   ]
  },
  {
   "cell_type": "code",
   "execution_count": 7,
   "metadata": {
    "colab": {
     "base_uri": "https://localhost:8080/",
     "height": 34
    },
    "colab_type": "code",
    "id": "XqUCR3DYgLPv",
    "outputId": "8f1096a8-f89b-464d-baef-ac96782d7870"
   },
   "outputs": [
    {
     "name": "stdout",
     "output_type": "stream",
     "text": [
      "99.9% of the rip distances are less than:  11.26 miles\n"
     ]
    }
   ],
   "source": [
    "# filter data by trip_distance\n",
    "print(\"99.9% of the rip distances are less than: \", data[\"trip_distance\"].quantile(q=0.999), \"miles\")\n",
    "data = data[(data[\"trip_distance\"] > 0) & (data[\"trip_distance\"] < 24)]"
   ]
  },
  {
   "cell_type": "code",
   "execution_count": 8,
   "metadata": {
    "colab": {
     "base_uri": "https://localhost:8080/",
     "height": 34
    },
    "colab_type": "code",
    "id": "jM73Q5h-gNjj",
    "outputId": "1a119840-3724-4c74-a7ec-fca4c45402d1"
   },
   "outputs": [
    {
     "name": "stdout",
     "output_type": "stream",
     "text": [
      "99.9% of the trip duratins are less than:  85546.0 seconds\n"
     ]
    }
   ],
   "source": [
    "data['tpep_pickup_datetime']= pd.to_datetime(data['tpep_pickup_datetime'])\n",
    "data['tpep_dropoff_datetime']= pd.to_datetime(data['tpep_dropoff_datetime']) \n",
    "\n",
    "data[\"trip_duration\"] = (data[\"tpep_dropoff_datetime\"] - data[\"tpep_pickup_datetime\"]).dt.total_seconds()\n",
    "print(\"99.9% of the trip duratins are less than: \", data[\"trip_duration\"].quantile(q=0.999), \"seconds\")\n",
    "data = data[(data[\"trip_duration\"] > 0) & (data[\"trip_duration\"] < 24*3600) ]"
   ]
  },
  {
   "cell_type": "code",
   "execution_count": 9,
   "metadata": {
    "colab": {
     "base_uri": "https://localhost:8080/",
     "height": 34
    },
    "colab_type": "code",
    "id": "JrP-IK8-gRNT",
    "outputId": "041b0733-1bb7-49ef-c080-e25d3e776a03"
   },
   "outputs": [
    {
     "name": "stdout",
     "output_type": "stream",
     "text": [
      "99.9% of the trip speeds are less than:  37.84090909090909 mph\n"
     ]
    }
   ],
   "source": [
    "data[\"speed\"] = data[\"trip_distance\"] / (data[\"trip_duration\"] / 3600)\n",
    "print(\"99.9% of the trip speeds are less than: \", data[\"speed\"].quantile(q=0.999), \"mph\")\n",
    "data = data[(data[\"speed\"] > 0) & (data[\"speed\"] < 100)]"
   ]
  },
  {
   "cell_type": "code",
   "execution_count": 10,
   "metadata": {
    "colab": {
     "base_uri": "https://localhost:8080/",
     "height": 422
    },
    "colab_type": "code",
    "id": "Vhe7mtNZgT4U",
    "outputId": "9dbf2640-fd58-4e52-c0ca-cf7f9d052f59"
   },
   "outputs": [
    {
     "name": "stdout",
     "output_type": "stream",
     "text": [
      "<class 'pandas.core.frame.DataFrame'>\n",
      "Int64Index: 9448808 entries, 5 to 10906853\n",
      "Data columns (total 10 columns):\n",
      " #   Column                 Dtype         \n",
      "---  ------                 -----         \n",
      " 0   tpep_pickup_datetime   datetime64[ns]\n",
      " 1   tpep_dropoff_datetime  datetime64[ns]\n",
      " 2   trip_distance          float64       \n",
      " 3   pickup_longitude       float64       \n",
      " 4   pickup_latitude        float64       \n",
      " 5   dropoff_longitude      float64       \n",
      " 6   dropoff_latitude       float64       \n",
      " 7   fare_amount            float64       \n",
      " 8   trip_duration          float64       \n",
      " 9   speed                  float64       \n",
      "dtypes: datetime64[ns](2), float64(8)\n",
      "memory usage: 793.0 MB\n"
     ]
    }
   ],
   "source": [
    "data.info()"
   ]
  },
  {
   "cell_type": "code",
   "execution_count": 11,
   "metadata": {},
   "outputs": [],
   "source": [
    "def haversine_np(lon1, lat1, lon2, lat2):\n",
    "    \"\"\"\n",
    "    Calculate the great circle distance between two points\n",
    "    on the earth (specified in decimal degrees)\n",
    "\n",
    "    All args must be of equal length.    \n",
    "\n",
    "    \"\"\"\n",
    "    lon1, lat1, lon2, lat2 = map(np.radians, [lon1, lat1, lon2, lat2])\n",
    "\n",
    "    dlon = lon2 - lon1\n",
    "    dlat = lat2 - lat1\n",
    "\n",
    "    a = np.sin(dlat/2.0)**2 + np.cos(lat1) * np.cos(lat2) * np.sin(dlon/2.0)**2\n",
    "\n",
    "    c = 2 * np.arcsin(np.sqrt(a))\n",
    "    km = R = 6371.0 * c # 6371 radius of the earth in km\n",
    "    return km * 1000\n"
   ]
  },
  {
   "cell_type": "code",
   "execution_count": 12,
   "metadata": {
    "colab": {
     "base_uri": "https://localhost:8080/",
     "height": 34
    },
    "colab_type": "code",
    "id": "cXxqtv4g2-ma",
    "outputId": "4bc3a75a-843b-4b42-9e46-c85c8c0415f1"
   },
   "outputs": [
    {
     "name": "stdout",
     "output_type": "stream",
     "text": [
      "10303.529670673082 19914.53188192843\n",
      "50 26 1300\n"
     ]
    }
   ],
   "source": [
    "grid_side_length = 400  # 300m\n",
    "time_interval_length = 20  # 20 min\n",
    "\n",
    "width = haversine_np(min_lon, min_lat, max_lon, min_lat)\n",
    "height = haversine_np(min_lon, min_lat, min_lon, max_lat)\n",
    "\n",
    "print(width, height)\n",
    "\n",
    "H = ceil(height / grid_side_length)\n",
    "W = ceil(width / grid_side_length)\n",
    "\n",
    "print(H, W, H*W)\n",
    "\n",
    "bottom_left_lon = np.array([min_lon] * data.shape[0])\n",
    "bottom_left_lat = np.array([min_lat] * data.shape[0])\n",
    "min_timestamp = pd.Timestamp('2016-01-01 00:00:00')\n",
    "\n",
    "\n",
    "def set_grid_index(data):\n",
    "  src_x = haversine_np(bottom_left_lon, bottom_left_lat, data[\"pickup_longitude\"], bottom_left_lat)\n",
    "  src_y = haversine_np(bottom_left_lon, bottom_left_lat, bottom_left_lon, data[\"pickup_latitude\"])\n",
    "\n",
    "  src_x = np.floor(src_x / grid_side_length)\n",
    "  src_y = np.floor(src_y / grid_side_length)\n",
    "  data[\"pickup_grid\"] = src_y * W + src_x\n",
    "\n",
    "  dest_x = haversine_np(bottom_left_lon, bottom_left_lat, data[\"dropoff_longitude\"], bottom_left_lat)\n",
    "  dest_y = haversine_np(bottom_left_lon, bottom_left_lat, bottom_left_lon, data[\"dropoff_latitude\"])\n",
    "  dest_x = np.floor(dest_x / grid_side_length)\n",
    "  dest_y = np.floor(dest_y / grid_side_length)\n",
    "  data[\"dropoff_grid\"] = dest_y * W + dest_x\n",
    "\n",
    "\n",
    "def set_timeinterval_index(data):\n",
    "  time_delta_minutes = (data[\"tpep_pickup_datetime\"] - min_timestamp).dt.total_seconds() / 60\n",
    "  data[\"pickup_timeinterval_index\"] = np.floor(time_delta_minutes / time_interval_length)"
   ]
  },
  {
   "cell_type": "code",
   "execution_count": 13,
   "metadata": {
    "colab": {
     "base_uri": "https://localhost:8080/",
     "height": 422
    },
    "colab_type": "code",
    "id": "OhYrWOoA3FNd",
    "outputId": "76e9f9e5-bb33-4ed9-bd1f-e105ad546899"
   },
   "outputs": [
    {
     "name": "stdout",
     "output_type": "stream",
     "text": [
      "<class 'pandas.core.frame.DataFrame'>\n",
      "Int64Index: 9448808 entries, 5 to 10906853\n",
      "Data columns (total 13 columns):\n",
      " #   Column                     Dtype         \n",
      "---  ------                     -----         \n",
      " 0   tpep_pickup_datetime       datetime64[ns]\n",
      " 1   tpep_dropoff_datetime      datetime64[ns]\n",
      " 2   trip_distance              float64       \n",
      " 3   pickup_longitude           float64       \n",
      " 4   pickup_latitude            float64       \n",
      " 5   dropoff_longitude          float64       \n",
      " 6   dropoff_latitude           float64       \n",
      " 7   fare_amount                float64       \n",
      " 8   trip_duration              float64       \n",
      " 9   speed                      float64       \n",
      " 10  pickup_grid                int32         \n",
      " 11  dropoff_grid               int32         \n",
      " 12  pickup_timeinterval_index  int32         \n",
      "dtypes: datetime64[ns](2), float64(8), int32(3)\n",
      "memory usage: 901.1 MB\n"
     ]
    }
   ],
   "source": [
    "set_grid_index(data)\n",
    "set_timeinterval_index(data)\n",
    "data = data.astype({'pickup_grid': 'int32', 'dropoff_grid': 'int32', 'pickup_timeinterval_index': 'int32'})\n",
    "data.info()"
   ]
  },
  {
   "cell_type": "code",
   "execution_count": 14,
   "metadata": {},
   "outputs": [
    {
     "data": {
      "text/html": [
       "<div>\n",
       "<style scoped>\n",
       "    .dataframe tbody tr th:only-of-type {\n",
       "        vertical-align: middle;\n",
       "    }\n",
       "\n",
       "    .dataframe tbody tr th {\n",
       "        vertical-align: top;\n",
       "    }\n",
       "\n",
       "    .dataframe thead th {\n",
       "        text-align: right;\n",
       "    }\n",
       "</style>\n",
       "<table border=\"1\" class=\"dataframe\">\n",
       "  <thead>\n",
       "    <tr style=\"text-align: right;\">\n",
       "      <th></th>\n",
       "      <th>tpep_pickup_datetime</th>\n",
       "      <th>tpep_dropoff_datetime</th>\n",
       "      <th>trip_distance</th>\n",
       "      <th>pickup_longitude</th>\n",
       "      <th>pickup_latitude</th>\n",
       "      <th>dropoff_longitude</th>\n",
       "      <th>dropoff_latitude</th>\n",
       "      <th>fare_amount</th>\n",
       "      <th>trip_duration</th>\n",
       "      <th>speed</th>\n",
       "      <th>pickup_grid</th>\n",
       "      <th>dropoff_grid</th>\n",
       "      <th>pickup_timeinterval_index</th>\n",
       "    </tr>\n",
       "  </thead>\n",
       "  <tbody>\n",
       "    <tr>\n",
       "      <th>5</th>\n",
       "      <td>2016-01-01 00:00:00</td>\n",
       "      <td>2016-01-01 00:18:30</td>\n",
       "      <td>5.52</td>\n",
       "      <td>-73.980118</td>\n",
       "      <td>40.743050</td>\n",
       "      <td>-73.913490</td>\n",
       "      <td>40.763142</td>\n",
       "      <td>19.0</td>\n",
       "      <td>1110.0</td>\n",
       "      <td>17.902703</td>\n",
       "      <td>321</td>\n",
       "      <td>465</td>\n",
       "      <td>0</td>\n",
       "    </tr>\n",
       "    <tr>\n",
       "      <th>6</th>\n",
       "      <td>2016-01-01 00:00:00</td>\n",
       "      <td>2016-01-01 00:26:45</td>\n",
       "      <td>7.45</td>\n",
       "      <td>-73.994057</td>\n",
       "      <td>40.719990</td>\n",
       "      <td>-73.966362</td>\n",
       "      <td>40.789871</td>\n",
       "      <td>26.0</td>\n",
       "      <td>1605.0</td>\n",
       "      <td>16.710280</td>\n",
       "      <td>136</td>\n",
       "      <td>662</td>\n",
       "      <td>0</td>\n",
       "    </tr>\n",
       "    <tr>\n",
       "      <th>7</th>\n",
       "      <td>2016-01-01 00:00:01</td>\n",
       "      <td>2016-01-01 00:11:55</td>\n",
       "      <td>1.20</td>\n",
       "      <td>-73.979424</td>\n",
       "      <td>40.744614</td>\n",
       "      <td>-73.992035</td>\n",
       "      <td>40.753944</td>\n",
       "      <td>9.0</td>\n",
       "      <td>714.0</td>\n",
       "      <td>6.050420</td>\n",
       "      <td>322</td>\n",
       "      <td>397</td>\n",
       "      <td>0</td>\n",
       "    </tr>\n",
       "    <tr>\n",
       "      <th>8</th>\n",
       "      <td>2016-01-01 00:00:02</td>\n",
       "      <td>2016-01-01 00:11:14</td>\n",
       "      <td>6.00</td>\n",
       "      <td>-73.947151</td>\n",
       "      <td>40.791046</td>\n",
       "      <td>-73.920769</td>\n",
       "      <td>40.865578</td>\n",
       "      <td>18.0</td>\n",
       "      <td>672.0</td>\n",
       "      <td>32.142857</td>\n",
       "      <td>666</td>\n",
       "      <td>1218</td>\n",
       "      <td>0</td>\n",
       "    </tr>\n",
       "    <tr>\n",
       "      <th>10</th>\n",
       "      <td>2016-01-01 00:00:03</td>\n",
       "      <td>2016-01-01 00:06:19</td>\n",
       "      <td>0.79</td>\n",
       "      <td>-74.006149</td>\n",
       "      <td>40.744919</td>\n",
       "      <td>-73.993797</td>\n",
       "      <td>40.741440</td>\n",
       "      <td>6.0</td>\n",
       "      <td>376.0</td>\n",
       "      <td>7.563830</td>\n",
       "      <td>316</td>\n",
       "      <td>293</td>\n",
       "      <td>0</td>\n",
       "    </tr>\n",
       "    <tr>\n",
       "      <th>...</th>\n",
       "      <td>...</td>\n",
       "      <td>...</td>\n",
       "      <td>...</td>\n",
       "      <td>...</td>\n",
       "      <td>...</td>\n",
       "      <td>...</td>\n",
       "      <td>...</td>\n",
       "      <td>...</td>\n",
       "      <td>...</td>\n",
       "      <td>...</td>\n",
       "      <td>...</td>\n",
       "      <td>...</td>\n",
       "      <td>...</td>\n",
       "    </tr>\n",
       "    <tr>\n",
       "      <th>10906848</th>\n",
       "      <td>2016-01-31 20:53:56</td>\n",
       "      <td>2016-01-31 21:05:13</td>\n",
       "      <td>2.84</td>\n",
       "      <td>-73.976212</td>\n",
       "      <td>40.786301</td>\n",
       "      <td>-73.977837</td>\n",
       "      <td>40.756989</td>\n",
       "      <td>11.5</td>\n",
       "      <td>677.0</td>\n",
       "      <td>15.101920</td>\n",
       "      <td>634</td>\n",
       "      <td>400</td>\n",
       "      <td>2222</td>\n",
       "    </tr>\n",
       "    <tr>\n",
       "      <th>10906850</th>\n",
       "      <td>2016-01-31 22:36:41</td>\n",
       "      <td>2016-01-31 22:45:04</td>\n",
       "      <td>2.50</td>\n",
       "      <td>-74.009277</td>\n",
       "      <td>40.717049</td>\n",
       "      <td>-73.994637</td>\n",
       "      <td>40.750488</td>\n",
       "      <td>9.5</td>\n",
       "      <td>503.0</td>\n",
       "      <td>17.892644</td>\n",
       "      <td>107</td>\n",
       "      <td>370</td>\n",
       "      <td>2227</td>\n",
       "    </tr>\n",
       "    <tr>\n",
       "      <th>10906851</th>\n",
       "      <td>2016-01-31 22:53:00</td>\n",
       "      <td>2016-01-31 22:59:37</td>\n",
       "      <td>1.68</td>\n",
       "      <td>-74.003578</td>\n",
       "      <td>40.750751</td>\n",
       "      <td>-74.002159</td>\n",
       "      <td>40.734909</td>\n",
       "      <td>7.0</td>\n",
       "      <td>397.0</td>\n",
       "      <td>15.234257</td>\n",
       "      <td>368</td>\n",
       "      <td>239</td>\n",
       "      <td>2228</td>\n",
       "    </tr>\n",
       "    <tr>\n",
       "      <th>10906852</th>\n",
       "      <td>2016-01-31 23:00:11</td>\n",
       "      <td>2016-01-31 23:12:08</td>\n",
       "      <td>2.65</td>\n",
       "      <td>-74.002159</td>\n",
       "      <td>40.734852</td>\n",
       "      <td>-73.999680</td>\n",
       "      <td>40.761669</td>\n",
       "      <td>11.0</td>\n",
       "      <td>717.0</td>\n",
       "      <td>13.305439</td>\n",
       "      <td>239</td>\n",
       "      <td>447</td>\n",
       "      <td>2229</td>\n",
       "    </tr>\n",
       "    <tr>\n",
       "      <th>10906853</th>\n",
       "      <td>2016-01-31 23:30:32</td>\n",
       "      <td>2016-01-31 23:38:18</td>\n",
       "      <td>2.20</td>\n",
       "      <td>-74.003578</td>\n",
       "      <td>40.751011</td>\n",
       "      <td>-73.982651</td>\n",
       "      <td>40.767509</td>\n",
       "      <td>8.5</td>\n",
       "      <td>466.0</td>\n",
       "      <td>16.995708</td>\n",
       "      <td>368</td>\n",
       "      <td>477</td>\n",
       "      <td>2230</td>\n",
       "    </tr>\n",
       "  </tbody>\n",
       "</table>\n",
       "<p>9448808 rows × 13 columns</p>\n",
       "</div>"
      ],
      "text/plain": [
       "         tpep_pickup_datetime tpep_dropoff_datetime  trip_distance  \\\n",
       "5         2016-01-01 00:00:00   2016-01-01 00:18:30           5.52   \n",
       "6         2016-01-01 00:00:00   2016-01-01 00:26:45           7.45   \n",
       "7         2016-01-01 00:00:01   2016-01-01 00:11:55           1.20   \n",
       "8         2016-01-01 00:00:02   2016-01-01 00:11:14           6.00   \n",
       "10        2016-01-01 00:00:03   2016-01-01 00:06:19           0.79   \n",
       "...                       ...                   ...            ...   \n",
       "10906848  2016-01-31 20:53:56   2016-01-31 21:05:13           2.84   \n",
       "10906850  2016-01-31 22:36:41   2016-01-31 22:45:04           2.50   \n",
       "10906851  2016-01-31 22:53:00   2016-01-31 22:59:37           1.68   \n",
       "10906852  2016-01-31 23:00:11   2016-01-31 23:12:08           2.65   \n",
       "10906853  2016-01-31 23:30:32   2016-01-31 23:38:18           2.20   \n",
       "\n",
       "          pickup_longitude  pickup_latitude  dropoff_longitude  \\\n",
       "5               -73.980118        40.743050         -73.913490   \n",
       "6               -73.994057        40.719990         -73.966362   \n",
       "7               -73.979424        40.744614         -73.992035   \n",
       "8               -73.947151        40.791046         -73.920769   \n",
       "10              -74.006149        40.744919         -73.993797   \n",
       "...                    ...              ...                ...   \n",
       "10906848        -73.976212        40.786301         -73.977837   \n",
       "10906850        -74.009277        40.717049         -73.994637   \n",
       "10906851        -74.003578        40.750751         -74.002159   \n",
       "10906852        -74.002159        40.734852         -73.999680   \n",
       "10906853        -74.003578        40.751011         -73.982651   \n",
       "\n",
       "          dropoff_latitude  fare_amount  trip_duration      speed  \\\n",
       "5                40.763142         19.0         1110.0  17.902703   \n",
       "6                40.789871         26.0         1605.0  16.710280   \n",
       "7                40.753944          9.0          714.0   6.050420   \n",
       "8                40.865578         18.0          672.0  32.142857   \n",
       "10               40.741440          6.0          376.0   7.563830   \n",
       "...                    ...          ...            ...        ...   \n",
       "10906848         40.756989         11.5          677.0  15.101920   \n",
       "10906850         40.750488          9.5          503.0  17.892644   \n",
       "10906851         40.734909          7.0          397.0  15.234257   \n",
       "10906852         40.761669         11.0          717.0  13.305439   \n",
       "10906853         40.767509          8.5          466.0  16.995708   \n",
       "\n",
       "          pickup_grid  dropoff_grid  pickup_timeinterval_index  \n",
       "5                 321           465                          0  \n",
       "6                 136           662                          0  \n",
       "7                 322           397                          0  \n",
       "8                 666          1218                          0  \n",
       "10                316           293                          0  \n",
       "...               ...           ...                        ...  \n",
       "10906848          634           400                       2222  \n",
       "10906850          107           370                       2227  \n",
       "10906851          368           239                       2228  \n",
       "10906852          239           447                       2229  \n",
       "10906853          368           477                       2230  \n",
       "\n",
       "[9448808 rows x 13 columns]"
      ]
     },
     "execution_count": 14,
     "metadata": {},
     "output_type": "execute_result"
    }
   ],
   "source": [
    "data"
   ]
  },
  {
   "cell_type": "code",
   "execution_count": 14,
   "metadata": {},
   "outputs": [
    {
     "data": {
      "image/png": "[encoded data removed]",
      "text/plain": [
       "<Figure size 432x288 with 1 Axes>"
      ]
     },
     "metadata": {
      "needs_background": "light"
     },
     "output_type": "display_data"
    }
   ],
   "source": [
    "pickup_data = data.groupby('pickup_timeinterval_index').size().reset_index(name='pickup_count')\n",
    "pickup_data['hour'] = pickup_data['pickup_timeinterval_index'] / 3\n",
    "\n",
    "f = plt.figure()\n",
    "plt.bar(\n",
    "    pickup_data[(pickup_data['hour'] > 23) & (pickup_data['hour'] <= 47)]['hour'] - 23,\n",
    "    pickup_data[(pickup_data['hour'] > 23) & (pickup_data['hour'] <= 47)]['pickup_count']\n",
    ")\n",
    "plt.xlabel('hour')\n",
    "plt.ylabel('pickup_count')\n",
    "plt.title('NYC Taxi Pickup Pattern (1/2/2016)')\n",
    "f.savefig(\"pickups_by_hour.png\", bbox_inches='tight', dpi=600)"
   ]
  },
  {
   "cell_type": "code",
   "execution_count": 15,
   "metadata": {},
   "outputs": [
    {
     "data": {
      "image/png": "[encoded data removed]",
      "text/plain": [
       "<Figure size 432x288 with 1 Axes>"
      ]
     },
     "metadata": {
      "needs_background": "light"
     },
     "output_type": "display_data"
    }
   ],
   "source": [
    "pickup_data['day'] = pickup_data['pickup_timeinterval_index'] / (3*24)\n",
    "pl = pickup_data[pickup_data[\"day\"] <= 6].plot(x='day', y='pickup_count')\n",
    "\n",
    "plt.title(\"NYC Yellow Taxi Pickup Pattern (1/1/2016 - 1/7/2016)\")\n",
    "plt.ylabel('pickup_count')\n",
    "plt.xlabel('Day')\n",
    "# f.savefig(\"pickups_by_day.png\", bbox_inches='tight', dpi=600)\n",
    "\n",
    "fig = pl.get_figure()\n",
    "fig.savefig('pickups_by_day.png')"
   ]
  },
  {
   "cell_type": "code",
   "execution_count": 16,
   "metadata": {},
   "outputs": [
    {
     "data": {
      "image/png": "[encoded data removed]",
      "text/plain": [
       "<Figure size 432x288 with 1 Axes>"
      ]
     },
     "metadata": {
      "needs_background": "light"
     },
     "output_type": "display_data"
    }
   ],
   "source": [
    "f = plt.figure()\n",
    "distance_data = data['trip_distance'].hist()\n",
    "plt.ylabel('pickup_count')\n",
    "plt.xlabel('Distance (miles)')\n",
    "plt.title('Histogram of Trip Distance')\n",
    "f.savefig(\"trip_distance_histogram.png\", bbox_inches='tight', dpi=600)"
   ]
  },
  {
   "cell_type": "code",
   "execution_count": 17,
   "metadata": {},
   "outputs": [
    {
     "data": {
      "image/png": "[encoded data removed]",
      "text/plain": [
       "<Figure size 432x288 with 1 Axes>"
      ]
     },
     "metadata": {
      "needs_background": "light"
     },
     "output_type": "display_data"
    }
   ],
   "source": [
    "f = plt.figure()\n",
    "duration_data = (data[data['trip_duration'] < 100*60]['trip_duration'] / 60).hist()\n",
    "plt.ylabel('pickup_count')\n",
    "plt.xlabel('Duration (minutes)')\n",
    "plt.title('Histogram of Trip Duration')\n",
    "f.savefig(\"trip_duration_histogram.png\", bbox_inches='tight', dpi=600)"
   ]
  },
  {
   "cell_type": "code",
   "execution_count": 15,
   "metadata": {},
   "outputs": [],
   "source": [
    "from utils import normalize_adj"
   ]
  },
  {
   "cell_type": "code",
   "execution_count": 16,
   "metadata": {
    "colab": {
     "base_uri": "https://localhost:8080/",
     "height": 34
    },
    "colab_type": "code",
    "id": "Xr56q_tDgYoc",
    "outputId": "c8b22ae5-204a-4cab-b70a-3378df2922c3"
   },
   "outputs": [
    {
     "name": "stdout",
     "output_type": "stream",
     "text": [
      "Initialized\n"
     ]
    },
    {
     "data": {
      "text/plain": [
       "torch.Size([2232, 1300, 1300])"
      ]
     },
     "execution_count": 16,
     "metadata": {},
     "output_type": "execute_result"
    }
   ],
   "source": [
    "graph_data = data[[\"pickup_grid\", \"dropoff_grid\", \"pickup_timeinterval_index\"]]\n",
    "max_timeinterval_index = max(graph_data[\"pickup_timeinterval_index\"])+1\n",
    "number_of_nodes = H*W\n",
    "\n",
    "nets = torch.zeros((max_timeinterval_index, number_of_nodes, number_of_nodes))\n",
    "print('Initialized')\n",
    "\n",
    "pickup_counts = np.zeros((number_of_nodes, max_timeinterval_index))\n",
    "dropoff_counts = np.zeros_like(pickup_counts)\n",
    "\n",
    "for t in range(max_timeinterval_index):\n",
    "    t_graph_data = graph_data[graph_data[\"pickup_timeinterval_index\"] == t]\n",
    "    src, dest = t_graph_data['pickup_grid'], t_graph_data['dropoff_grid']\n",
    "    pickups = t_graph_data.groupby('pickup_grid').size().to_dict()\n",
    "    dropoffs = t_graph_data.groupby('dropoff_grid').size().to_dict()\n",
    "    \n",
    "    pickup_counts[list(pickups.keys()), t] = list(pickups.values())\n",
    "    dropoff_counts[list(dropoffs.keys()), t] = list(dropoffs.values())\n",
    "    \n",
    "    adj = csr_matrix((np.ones(len(src)), (src, dest)), shape=(H*W, H*W))\n",
    "    adj = adj + adj.T.multiply(adj.T > adj) - adj.multiply(adj.T > adj)  # make adj symmetric, for application of GAT\n",
    "    adj = normalize_adj(adj + sp.eye(adj.shape[0]))  # add self edges and normalize\n",
    "    \n",
    "    nets[t] = torch.Tensor(adj.todense())\n",
    "\n",
    "\n",
    "nets.shape"
   ]
  },
  {
   "cell_type": "code",
   "execution_count": 17,
   "metadata": {},
   "outputs": [
    {
     "data": {
      "text/plain": [
       "((1300, 2232), (2232,))"
      ]
     },
     "execution_count": 17,
     "metadata": {},
     "output_type": "execute_result"
    }
   ],
   "source": [
    "from scipy import fftpack\n",
    "sig_fft = fftpack.fft(pickup_counts)\n",
    "sig_fft_real = 2 * np.abs(sig_fft / pickup_counts.shape[1])\n",
    "sig_freqs = fftpack.fftfreq(pickup_counts.shape[1], 1 / (24 * 3))\n",
    "\n",
    "sig_fft_real.shape, sig_freqs.shape"
   ]
  },
  {
   "cell_type": "code",
   "execution_count": 18,
   "metadata": {},
   "outputs": [
    {
     "data": {
      "text/plain": [
       "((96,), (1300, 96))"
      ]
     },
     "execution_count": 18,
     "metadata": {},
     "output_type": "execute_result"
    }
   ],
   "source": [
    "freq_mask = (sig_freqs > 0) & (sig_freqs < 3.1)  # Taking only positive frequencies, and time_period < 3 days\n",
    "sig_freqs_masked = sig_freqs[freq_mask]\n",
    "\n",
    "freq_mask = np.tile(freq_mask, (number_of_nodes, 1))\n",
    "sig_fft_real_masked = sig_fft_real[freq_mask].reshape(number_of_nodes, -1)\n",
    "\n",
    "sig_freqs_masked.shape, sig_fft_real_masked.shape"
   ]
  },
  {
   "cell_type": "code",
   "execution_count": 19,
   "metadata": {},
   "outputs": [
    {
     "data": {
      "text/plain": [
       "(1300, 192)"
      ]
     },
     "execution_count": 19,
     "metadata": {},
     "output_type": "execute_result"
    }
   ],
   "source": [
    "fourier_features = np.hstack((\n",
    "    np.tile(sig_freqs_masked, (number_of_nodes, 1)),\n",
    "    sig_fft_real_masked\n",
    "))\n",
    "\n",
    "fourier_features.shape\n",
    "# fourier_frequencies = sig_freqs_masked  # same for all nodes\n",
    "# fourier_amplitudes  = sig_fft_real_masked"
   ]
  },
  {
   "cell_type": "code",
   "execution_count": 23,
   "metadata": {},
   "outputs": [
    {
     "data": {
      "text/plain": [
       "[<matplotlib.lines.Line2D at 0x7f7da8a88490>]"
      ]
     },
     "execution_count": 23,
     "metadata": {},
     "output_type": "execute_result"
    },
    {
     "data": {
      "image/png": "[encoded data removed]",
      "text/plain": [
       "<Figure size 432x288 with 1 Axes>"
      ]
     },
     "metadata": {
      "needs_background": "light"
     },
     "output_type": "display_data"
    }
   ],
   "source": [
    "plt.plot(sig_freqs_masked, sig_fft_real_masked[573])"
   ]
  },
  {
   "cell_type": "code",
   "execution_count": 24,
   "metadata": {},
   "outputs": [
    {
     "data": {
      "text/plain": [
       "[<matplotlib.lines.Line2D at 0x7f7dac0d9f90>]"
      ]
     },
     "execution_count": 24,
     "metadata": {},
     "output_type": "execute_result"
    },
    {
     "data": {
      "image/png": "[encoded data removed]",
      "text/plain": [
       "<Figure size 432x216 with 1 Axes>"
      ]
     },
     "metadata": {
      "needs_background": "light"
     },
     "output_type": "display_data"
    }
   ],
   "source": [
    "# visualize reconstruction quality from frequency domain\n",
    "signal = pickup_counts[573]\n",
    "\n",
    "sig_fft_reg = sig_fft[573].copy()\n",
    "sig_fft_reg[np.abs(sig_freqs) > 7.1] = 0\n",
    "\n",
    "sig_reg = np.real(fftpack.ifft(sig_fft_reg))\n",
    "fig, ax = plt.subplots(1, 1, figsize=(6, 3))\n",
    "ax.plot(signal)\n",
    "ax.plot(sig_reg, '-')\n",
    "# print(min(sig_reg))"
   ]
  },
  {
   "cell_type": "code",
   "execution_count": 20,
   "metadata": {},
   "outputs": [],
   "source": [
    "def get_time_features(timeIntervalIndex, number_of_nodes):\n",
    "    # hour of day, day of week: will be same for all nodes in the particular time interval\n",
    "    time_interval_starting_timestamp = min_timestamp + timeIntervalIndex * pd.Timedelta('%s minutes' % time_interval_length)\n",
    "    hour_of_day = time_interval_starting_timestamp.hour\n",
    "    day_of_week = time_interval_starting_timestamp.dayofweek\n",
    "    month_of_year = time_interval_starting_timestamp.month - 1\n",
    "    \n",
    "    # print(hour_of_day, day_of_week, month_of_year)\n",
    "    \n",
    "    hour = np.zeros((number_of_nodes, 24))\n",
    "    hour[:, hour_of_day] = 1\n",
    "    \n",
    "    day = np.zeros((number_of_nodes, 7))\n",
    "    day[:, day_of_week] = 1\n",
    "    \n",
    "    month = np.zeros((number_of_nodes, 12))\n",
    "    month[:, month_of_year] = 1\n",
    "    \n",
    "    return np.hstack((hour, day, month))"
   ]
  },
  {
   "cell_type": "code",
   "execution_count": 24,
   "metadata": {},
   "outputs": [
    {
     "name": "stdin",
     "output_type": "stream",
     "text": [
      "Once deleted, variables cannot be recovered. Proceed (y/[n])?  y\n"
     ]
    },
    {
     "name": "stdout",
     "output_type": "stream",
     "text": [
      "Flushing output cache (6 entries)\n"
     ]
    }
   ],
   "source": [
    "%reset Out"
   ]
  },
  {
   "cell_type": "code",
   "execution_count": 155,
   "metadata": {},
   "outputs": [
    {
     "data": {
      "text/plain": [
       "torch.Size([2232, 1300, 244])"
      ]
     },
     "execution_count": 155,
     "metadata": {},
     "output_type": "execute_result"
    }
   ],
   "source": [
    "'''\n",
    "feature dimensions:\n",
    "hour_of_day: possible values are 0-23, Dimension in one hot encoding = 24\n",
    "day of week: possible values: 0-6, Dimension in one hot encoding = 7\n",
    "month of year: possible values: 0-11, Dimension in one hot encoding = 12\n",
    "pickup count history: Dimension 's'\n",
    "weighted moving avergae of pickup count: Dimension 1\n",
    "dropoff count history: 2 hours data, 2*3 = 6 timeinterval data, Dimesion 6\n",
    "fourier frequencies: Dimension 96\n",
    "fourier amplitudes: Dimension 96\n",
    "Total Dimension: (24 + 7 + 12 + s + 1 + 6 + 96 * 2)\n",
    "'''\n",
    "\n",
    "s = 2\n",
    "feature_dimension = 24 + 7 + 12 + s + 1 + 6 + fourier_features.shape[1]\n",
    "\n",
    "calculated_features = torch.zeros((max_timeinterval_index, number_of_nodes, feature_dimension))\n",
    "\n",
    "for t in range(max_timeinterval_index):\n",
    "    # print('time interval index: %s/%s' % (t, max_timeinterval_index))\n",
    "    X_time_features = get_time_features(t, number_of_nodes)\n",
    "    # print(X_time_features.shape)\n",
    "    \n",
    "    # gather pickup historical values\n",
    "    # handle previous timeinterval data not available case here\n",
    "    # currently python is doing negative indexing\n",
    "    historical_pickup_timeIntervalIndices = list(range(t - s * 7 * 24 * 3, t, 7 * 24 * 3))\n",
    "    pickup_count_history = pickup_counts[:, historical_pickup_timeIntervalIndices]    \n",
    "    # print(pickup_count_history.shape)\n",
    "    \n",
    "    # calculate weighted moving average of pickups\n",
    "    weights = np.arange(1, s+1)\n",
    "    weighted_moving_avg_pickup = np.dot(pickup_count_history, weights).reshape(-1, 1) / (s*(s+1)/2)\n",
    "    # print(weighted_moving_avg_pickup.shape)\n",
    "    \n",
    "    # gather dropoff numbers in the previous day: \n",
    "    # go back one day, use sum of dropoff numbers starting at that time and or next 2 hours, i.e 2*3 = 6 time intervals\n",
    "    historical_dropoff_timeIntervalIndices = list(range(t - 24 * 3, t - 24 * 3 + 6))\n",
    "    dropoff_count_history = dropoff_counts[:, historical_dropoff_timeIntervalIndices]\n",
    "    # print(dropoff_count_history.shape)\n",
    "    \n",
    "    # fourier frequencies\n",
    "    # fourier_freqs = np.tile(fourier_frequencies, (number_of_nodes, 1))\n",
    "    # print(fourier_freqs.shape)\n",
    "    \n",
    "    # fourier amplitudes\n",
    "    # print(fourier_amplitudes.shape)\n",
    "    \n",
    "    calculated_features[t] = torch.Tensor(np.hstack((\n",
    "        X_time_features, pickup_count_history, weighted_moving_avg_pickup, dropoff_count_history, fourier_features\n",
    "    )))\n",
    "    \n",
    "\n",
    "calculated_features.shape"
   ]
  },
  {
   "cell_type": "code",
   "execution_count": 156,
   "metadata": {},
   "outputs": [],
   "source": [
    "# normalize the features\n",
    "train_start_index = 2 * 7 * 24 * 3\n",
    "dataset_size = len(range(train_start_index, max_timeinterval_index))\n",
    "train_size = int(len(dataset)*0.8)\n",
    "\n",
    "scaler = StandardScaler()\n",
    "\n",
    "# scale data using only the training data\n",
    "for t in range(train_start_index, train_start_index + train_size):\n",
    "    scaler.partial_fit(calculated_features[t])\n",
    "    \n",
    "for t in range(train_start_index, max_timeinterval_index):\n",
    "    calculated_features[t] = torch.Tensor(scaler.transform(calculated_features[t]))"
   ]
  },
  {
   "cell_type": "code",
   "execution_count": 157,
   "metadata": {},
   "outputs": [],
   "source": [
    "target_values = torch.Tensor(pickup_counts.T)\n",
    "\n",
    "adj_indices = torch.zeros((max_timeinterval_index, s), dtype=torch.long)\n",
    "for t in range(train_start_timeIntervalIndex, max_timeinterval_index):\n",
    "    adj_indices[t] = torch.arange(t - s * 7 * 24 * 3, t, 7 * 24 * 3, dtype=torch.long)"
   ]
  },
  {
   "cell_type": "code",
   "execution_count": 158,
   "metadata": {},
   "outputs": [],
   "source": [
    "# Design a dataloader\n",
    "dataset = TensorDataset(\n",
    "    calculated_features[train_start_index:, ], \n",
    "    adj_indices[train_start_index:, ], \n",
    "    target_values[train_start_index:, ]\n",
    ")\n",
    "\n",
    "train_dataset, val_dataset = Subset(dataset, range(train_size)), Subset(dataset, range(train_size, len(dataset)))\n",
    "\n",
    "train_dataloader = DataLoader(train_dataset, batch_size=None, shuffle=False, pin_memory=False)\n",
    "val_dataloader = DataLoader(val_dataset, batch_size=None, shuffle=False, pin_memory=False)"
   ]
  },
  {
   "cell_type": "code",
   "execution_count": 161,
   "metadata": {},
   "outputs": [],
   "source": [
    "from gat_layers import GraphAttentionLayer\n",
    "\n",
    "class GAT(nn.Module):\n",
    "    def __init__(self, nfeat, nhid, dropout, alpha, nheads):\n",
    "        \"\"\"Dense version of GAT.\"\"\"\n",
    "        super(GAT, self).__init__()\n",
    "        self.dropout = dropout\n",
    "\n",
    "        self.attentions = [GraphAttentionLayer(nfeat, nhid, dropout=dropout, alpha=alpha, concat=True) for _ in range(nheads)]\n",
    "        for i, attention in enumerate(self.attentions):\n",
    "            self.add_module('attention_{}'.format(i), attention)\n",
    "\n",
    "    def forward(self, x, adj):\n",
    "        x = F.dropout(x, self.dropout, training=self.training)\n",
    "        x = torch.cat([att(x, adj) for att in self.attentions], dim=1)\n",
    "        # print(x.shape)\n",
    "        return x"
   ]
  },
  {
   "cell_type": "code",
   "execution_count": 162,
   "metadata": {},
   "outputs": [],
   "source": [
    "class Model(nn.Module):\n",
    "    def __init__(self, seq_length, feature_length, hidden_length, dropout, alpha, nheads):\n",
    "        super(Model, self).__init__()\n",
    "        \n",
    "        self.gats = [GAT(feature_length, hidden_length, dropout, alpha, nheads) for _ in range(seq_length)]\n",
    "        for i, gat in enumerate(self.gats):\n",
    "            self.add_module('gat_{}'.format(i), gat)\n",
    "            \n",
    "        self.gru = nn.GRU(hidden_length*nheads, hidden_length)\n",
    "        self.add_module('gru', self.gru)\n",
    "        \n",
    "        self.fc = nn.Linear(hidden_length*seq_length, 1)\n",
    "        self.add_module('fc', self.fc)\n",
    "        \n",
    "        self.relu = nn.ReLU()\n",
    "        self.add_module('relu', self.relu)\n",
    "            \n",
    "    def forward(self, x, adjs):\n",
    "        # assert(len(adjs) == len(self.gats))\n",
    "        # adjs = nets[adj_indices]\n",
    "        seq_x = [gat(x, adj) for gat, adj in zip(self.gats, adjs)]\n",
    "        x = torch.stack(seq_x)\n",
    "        x, h = self.gru(x)\n",
    "        x = x.permute(1, 0, 2).contiguous().view(number_of_nodes, -1)\n",
    "        x = self.relu(self.fc(x))\n",
    "        # print(x.shape)\n",
    "        return x"
   ]
  },
  {
   "cell_type": "code",
   "execution_count": 163,
   "metadata": {},
   "outputs": [
    {
     "data": {
      "text/plain": [
       "Model(\n",
       "  (gat_0): GAT(\n",
       "    (attention_0): GraphAttentionLayer (244 -> 8)\n",
       "    (attention_1): GraphAttentionLayer (244 -> 8)\n",
       "    (attention_2): GraphAttentionLayer (244 -> 8)\n",
       "    (attention_3): GraphAttentionLayer (244 -> 8)\n",
       "    (attention_4): GraphAttentionLayer (244 -> 8)\n",
       "    (attention_5): GraphAttentionLayer (244 -> 8)\n",
       "    (attention_6): GraphAttentionLayer (244 -> 8)\n",
       "    (attention_7): GraphAttentionLayer (244 -> 8)\n",
       "  )\n",
       "  (gat_1): GAT(\n",
       "    (attention_0): GraphAttentionLayer (244 -> 8)\n",
       "    (attention_1): GraphAttentionLayer (244 -> 8)\n",
       "    (attention_2): GraphAttentionLayer (244 -> 8)\n",
       "    (attention_3): GraphAttentionLayer (244 -> 8)\n",
       "    (attention_4): GraphAttentionLayer (244 -> 8)\n",
       "    (attention_5): GraphAttentionLayer (244 -> 8)\n",
       "    (attention_6): GraphAttentionLayer (244 -> 8)\n",
       "    (attention_7): GraphAttentionLayer (244 -> 8)\n",
       "  )\n",
       "  (gru): GRU(64, 8)\n",
       "  (fc): Linear(in_features=16, out_features=1, bias=True)\n",
       "  (relu): ReLU()\n",
       ")"
      ]
     },
     "execution_count": 163,
     "metadata": {},
     "output_type": "execute_result"
    }
   ],
   "source": [
    "import torch.optim as optim\n",
    "\n",
    "model = Model(\n",
    "    seq_length= 2,\n",
    "    feature_length = feature_dimension,\n",
    "    hidden_length = 8,\n",
    "    dropout = 0.5,\n",
    "    alpha = 0.2,\n",
    "    nheads = 8\n",
    ")\n",
    "\n",
    "optimizer = optim.Adam(\n",
    "    model.parameters(), \n",
    "    lr=0.005, \n",
    "    weight_decay=5e-4\n",
    ")\n",
    "\n",
    "model.cuda()"
   ]
  },
  {
   "cell_type": "code",
   "execution_count": 165,
   "metadata": {},
   "outputs": [],
   "source": [
    "def train(feature, adjs, target_value):\n",
    "    model.train()\n",
    "    optimizer.zero_grad()\n",
    "    output = model(feature, adjs)\n",
    "    loss_train = F.mse_loss(output, target_value)\n",
    "    loss_train.backward()\n",
    "    optimizer.step()\n",
    "    return loss_train.item()"
   ]
  },
  {
   "cell_type": "code",
   "execution_count": 166,
   "metadata": {},
   "outputs": [],
   "source": [
    "# Train model\n",
    "def train_model(number_of_epochs):\n",
    "    train_losses_by_epoch = []\n",
    "    val_losses_by_epoch = []\n",
    "    for epoch in range(number_of_epochs):\n",
    "        train_losses = []\n",
    "        for i, (feature, adj_ind, target_value) in enumerate(train_dataloader):\n",
    "            adjs = nets[adj_ind]\n",
    "            loss = train(feature.cuda(), adjs.cuda(), target_value.reshape(number_of_nodes, -1).cuda())\n",
    "            train_losses.append(loss)\n",
    "            if (i % 100 == 0): print('i=',i,'train rmse loss', np.mean(np.sqrt(train_losses)))\n",
    "            \n",
    "        mean_train_loss = np.mean(np.sqrt(train_losses))\n",
    "        mean_val_loss = get_validation_loss()\n",
    "        \n",
    "        train_losses_by_epoch.append(mean_train_loss)\n",
    "        val_losses_by_epoch.append(mean_val_loss)\n",
    "        \n",
    "        print(\n",
    "            'Epoch: {:04d}'.format(epoch+1),\n",
    "            'train rmse loss: {:.4f}'.format(mean_train_loss),\n",
    "            'val rmse loss: {:.4f}'.format(mean_val_loss)\n",
    "        )\n",
    "    return train_losses_by_epoch, val_losses_by_epoch\n",
    "\n",
    "\n",
    "def get_validation_loss():\n",
    "    val_losses = []\n",
    "    for i, (feature, adj_ind, target_value) in enumerate(val_dataloader):\n",
    "        model.eval()\n",
    "        adjs = nets[adj_ind]\n",
    "        output = model(feature.cuda(), adjs.cuda())\n",
    "        loss_val = F.mse_loss(output, target_value.reshape(number_of_nodes, -1).cuda())\n",
    "        val_losses.append(loss_val.item())\n",
    "        \n",
    "    return np.mean(np.sqrt(val_losses))"
   ]
  },
  {
   "cell_type": "code",
   "execution_count": 167,
   "metadata": {},
   "outputs": [
    {
     "name": "stdout",
     "output_type": "stream",
     "text": [
      "i= 0 train rmse loss 10.95123056961041\n",
      "i= 100 train rmse loss 9.861163239476264\n",
      "i= 200 train rmse loss 10.264141335000541\n",
      "i= 300 train rmse loss 9.320482005605813\n",
      "i= 400 train rmse loss 9.162297659320911\n",
      "i= 500 train rmse loss 9.112802679824078\n",
      "i= 600 train rmse loss 8.807749744786117\n",
      "i= 700 train rmse loss 7.875126734837033\n",
      "i= 800 train rmse loss 7.616038267095246\n",
      "i= 900 train rmse loss 7.490408752084972\n",
      "Epoch: 0001 loss_train: 7.4750 loss_val: 9.1556\n",
      "i= 0 train rmse loss 9.347265698459506\n",
      "i= 100 train rmse loss 7.81060685072524\n",
      "i= 200 train rmse loss 8.845686067185985\n",
      "i= 300 train rmse loss 8.27483859149654\n",
      "i= 400 train rmse loss 8.30704604339461\n",
      "i= 500 train rmse loss 8.371101592251602\n",
      "i= 600 train rmse loss 8.185016339149698\n",
      "i= 700 train rmse loss 7.366305500078652\n",
      "i= 800 train rmse loss 7.3812248993066\n",
      "i= 900 train rmse loss 7.329872227824587\n",
      "Epoch: 0002 loss_train: 7.3627 loss_val: 8.8313\n"
     ]
    }
   ],
   "source": [
    "train_losses, val_losses = train_model(number_of_epochs=2)"
   ]
  }
 ],
 "metadata": {
  "kernelspec": {
   "display_name": "PyTorch 1.4.0 Py3.7",
   "language": "python",
   "name": "pytorch140_py37"
  },
  "language_info": {
   "codemirror_mode": {
    "name": "ipython",
    "version": 3
   },
   "file_extension": ".py",
   "mimetype": "text/x-python",
   "name": "python",
   "nbconvert_exporter": "python",
   "pygments_lexer": "ipython3",
   "version": "3.7.4"
  }
 },
 "nbformat": 4,
 "nbformat_minor": 4
}
